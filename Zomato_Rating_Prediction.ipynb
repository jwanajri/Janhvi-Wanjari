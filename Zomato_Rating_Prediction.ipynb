{
  "nbformat": 4,
  "nbformat_minor": 0,
  "metadata": {
    "kernelspec": {
      "display_name": "Python 3",
      "language": "python",
      "name": "python3"
    },
    "language_info": {
      "codemirror_mode": {
        "name": "ipython",
        "version": 3
      },
      "file_extension": ".py",
      "mimetype": "text/x-python",
      "name": "python",
      "nbconvert_exporter": "python",
      "pygments_lexer": "ipython3",
      "version": "3.8.5"
    },
    "colab": {
      "name": "Zomato Rating Prediction.ipynb",
      "provenance": [],
      "include_colab_link": true
    }
  },
  "cells": [
    {
      "cell_type": "markdown",
      "metadata": {
        "id": "view-in-github",
        "colab_type": "text"
      },
      "source": [
        "<a href=\"https://colab.research.google.com/github/jwanajri/Janhvi-Wanjari/blob/main/Zomato_Rating_Prediction.ipynb\" target=\"_parent\"><img src=\"https://colab.research.google.com/assets/colab-badge.svg\" alt=\"Open In Colab\"/></a>"
      ]
    },
    {
      "cell_type": "markdown",
      "metadata": {
        "id": "hdB4j-5DomQ6"
      },
      "source": [
        "# Data entry and Data pre-processing\n",
        "\n",
        "\n",
        "\n",
        "\n"
      ]
    },
    {
      "cell_type": "code",
      "metadata": {
        "id": "82j4zgehm0lr"
      },
      "source": [
        "import pandas as pd\n",
        "import numpy as np\n",
        "import matplotlib.pyplot as plt\n",
        "import seaborn as sns\n",
        "%matplotlib inline"
      ],
      "execution_count": 1,
      "outputs": []
    },
    {
      "cell_type": "markdown",
      "metadata": {
        "id": "98iT-QS6YTLT"
      },
      "source": [
        "Reading the .csv file"
      ]
    },
    {
      "cell_type": "code",
      "metadata": {
        "id": "iENtk5y0m0lv"
      },
      "source": [
        "df=pd.read_excel(\"/content/zomato.xlsm\")"
      ],
      "execution_count": 2,
      "outputs": []
    },
    {
      "cell_type": "code",
      "metadata": {
        "id": "kG-Tt4tXm0lw"
      },
      "source": [
        "df"
      ],
      "execution_count": null,
      "outputs": []
    },
    {
      "cell_type": "code",
      "metadata": {
        "colab": {
          "base_uri": "https://localhost:8080/",
          "height": 369
        },
        "id": "Ri8u8ma2m0lx",
        "outputId": "7175bb09-4373-4560-8ba5-5072faf82e29"
      },
      "source": [
        "df.head(2)\n"
      ],
      "execution_count": null,
      "outputs": [
        {
          "output_type": "execute_result",
          "data": {
            "text/html": [
              "<div>\n",
              "<style scoped>\n",
              "    .dataframe tbody tr th:only-of-type {\n",
              "        vertical-align: middle;\n",
              "    }\n",
              "\n",
              "    .dataframe tbody tr th {\n",
              "        vertical-align: top;\n",
              "    }\n",
              "\n",
              "    .dataframe thead th {\n",
              "        text-align: right;\n",
              "    }\n",
              "</style>\n",
              "<table border=\"1\" class=\"dataframe\">\n",
              "  <thead>\n",
              "    <tr style=\"text-align: right;\">\n",
              "      <th></th>\n",
              "      <th>Restaurant ID</th>\n",
              "      <th>Restaurant Name</th>\n",
              "      <th>Country Code</th>\n",
              "      <th>City</th>\n",
              "      <th>Address</th>\n",
              "      <th>Locality</th>\n",
              "      <th>Locality Verbose</th>\n",
              "      <th>Longitude</th>\n",
              "      <th>Latitude</th>\n",
              "      <th>Cuisines</th>\n",
              "      <th>Average Cost for two</th>\n",
              "      <th>Currency</th>\n",
              "      <th>Has Table booking</th>\n",
              "      <th>Has Online delivery</th>\n",
              "      <th>Is delivering now</th>\n",
              "      <th>Switch to order menu</th>\n",
              "      <th>Price range</th>\n",
              "      <th>Aggregate rating</th>\n",
              "      <th>Rating color</th>\n",
              "      <th>Rating text</th>\n",
              "      <th>Votes</th>\n",
              "    </tr>\n",
              "  </thead>\n",
              "  <tbody>\n",
              "    <tr>\n",
              "      <th>0</th>\n",
              "      <td>6317637</td>\n",
              "      <td>Le Petit Souffle</td>\n",
              "      <td>162</td>\n",
              "      <td>Makati City</td>\n",
              "      <td>Third Floor, Century City Mall, Kalayaan Avenu...</td>\n",
              "      <td>Century City Mall, Poblacion, Makati City</td>\n",
              "      <td>Century City Mall, Poblacion, Makati City, Mak...</td>\n",
              "      <td>121.027535</td>\n",
              "      <td>14.565443</td>\n",
              "      <td>French, Japanese, Desserts</td>\n",
              "      <td>1100</td>\n",
              "      <td>Botswana Pula(P)</td>\n",
              "      <td>Yes</td>\n",
              "      <td>No</td>\n",
              "      <td>No</td>\n",
              "      <td>No</td>\n",
              "      <td>3</td>\n",
              "      <td>4.8</td>\n",
              "      <td>Dark Green</td>\n",
              "      <td>Excellent</td>\n",
              "      <td>314</td>\n",
              "    </tr>\n",
              "    <tr>\n",
              "      <th>1</th>\n",
              "      <td>6304287</td>\n",
              "      <td>Izakaya Kikufuji</td>\n",
              "      <td>162</td>\n",
              "      <td>Makati City</td>\n",
              "      <td>Little Tokyo, 2277 Chino Roces Avenue, Legaspi...</td>\n",
              "      <td>Little Tokyo, Legaspi Village, Makati City</td>\n",
              "      <td>Little Tokyo, Legaspi Village, Makati City, Ma...</td>\n",
              "      <td>121.014101</td>\n",
              "      <td>14.553708</td>\n",
              "      <td>Japanese</td>\n",
              "      <td>1200</td>\n",
              "      <td>Botswana Pula(P)</td>\n",
              "      <td>Yes</td>\n",
              "      <td>No</td>\n",
              "      <td>No</td>\n",
              "      <td>No</td>\n",
              "      <td>3</td>\n",
              "      <td>4.5</td>\n",
              "      <td>Dark Green</td>\n",
              "      <td>Excellent</td>\n",
              "      <td>591</td>\n",
              "    </tr>\n",
              "  </tbody>\n",
              "</table>\n",
              "</div>"
            ],
            "text/plain": [
              "   Restaurant ID   Restaurant Name  ...  Rating text Votes\n",
              "0        6317637  Le Petit Souffle  ...    Excellent   314\n",
              "1        6304287  Izakaya Kikufuji  ...    Excellent   591\n",
              "\n",
              "[2 rows x 21 columns]"
            ]
          },
          "metadata": {
            "tags": []
          },
          "execution_count": 5
        }
      ]
    },
    {
      "cell_type": "code",
      "metadata": {
        "colab": {
          "base_uri": "https://localhost:8080/"
        },
        "id": "FToXdtbIm0ly",
        "outputId": "f9674c62-c787-4061-c1d9-917f14eb6f0c"
      },
      "source": [
        "df.columns"
      ],
      "execution_count": null,
      "outputs": [
        {
          "output_type": "execute_result",
          "data": {
            "text/plain": [
              "Index(['Restaurant ID', 'Restaurant Name', 'Country Code', 'City', 'Address',\n",
              "       'Locality', 'Locality Verbose', 'Longitude', 'Latitude', 'Cuisines',\n",
              "       'Average Cost for two', 'Currency', 'Has Table booking',\n",
              "       'Has Online delivery', 'Is delivering now', 'Switch to order menu',\n",
              "       'Price range', 'Aggregate rating', 'Rating color', 'Rating text',\n",
              "       'Votes'],\n",
              "      dtype='object')"
            ]
          },
          "metadata": {
            "tags": []
          },
          "execution_count": 6
        }
      ]
    },
    {
      "cell_type": "code",
      "metadata": {
        "colab": {
          "base_uri": "https://localhost:8080/"
        },
        "id": "5yZnla4Zm0ly",
        "outputId": "5c822b88-552d-4ab8-e0f2-8b87b654e768"
      },
      "source": [
        "df.shape"
      ],
      "execution_count": null,
      "outputs": [
        {
          "output_type": "execute_result",
          "data": {
            "text/plain": [
              "(9551, 21)"
            ]
          },
          "metadata": {
            "tags": []
          },
          "execution_count": 7
        }
      ]
    },
    {
      "cell_type": "code",
      "metadata": {
        "colab": {
          "base_uri": "https://localhost:8080/"
        },
        "id": "4caO05hom0lz",
        "outputId": "eadab8d8-cb7e-4acf-db6a-a0686c740d20"
      },
      "source": [
        "df.shape"
      ],
      "execution_count": null,
      "outputs": [
        {
          "output_type": "execute_result",
          "data": {
            "text/plain": [
              "(9551, 21)"
            ]
          },
          "metadata": {
            "tags": []
          },
          "execution_count": 8
        }
      ]
    },
    {
      "cell_type": "code",
      "metadata": {
        "colab": {
          "base_uri": "https://localhost:8080/"
        },
        "id": "Wp7AqJoCm0l0",
        "outputId": "1b7554ec-1f0a-48d1-9094-e5c86d454d2b"
      },
      "source": [
        "df.info"
      ],
      "execution_count": null,
      "outputs": [
        {
          "output_type": "execute_result",
          "data": {
            "text/plain": [
              "<bound method DataFrame.info of       Restaurant ID           Restaurant Name  ...  Rating text Votes\n",
              "0           6317637          Le Petit Souffle  ...    Excellent   314\n",
              "1           6304287          Izakaya Kikufuji  ...    Excellent   591\n",
              "2           6300002    Heat - Edsa Shangri-La  ...    Very Good   270\n",
              "3           6318506                      Ooma  ...    Excellent   365\n",
              "4           6314302               Sambo Kojin  ...    Excellent   229\n",
              "...             ...                       ...  ...          ...   ...\n",
              "9546        5915730              Naml€± Gurme  ...    Very Good   788\n",
              "9547        5908749             Ceviz A€Ùac€±  ...    Very Good  1034\n",
              "9548        5915807                     Huqqa  ...         Good   661\n",
              "9549        5916112              AÅÙÅÙk Kahve  ...    Very Good   901\n",
              "9550        5927402  Walter's Coffee Roastery  ...    Very Good   591\n",
              "\n",
              "[9551 rows x 21 columns]>"
            ]
          },
          "metadata": {
            "tags": []
          },
          "execution_count": 9
        }
      ]
    },
    {
      "cell_type": "code",
      "metadata": {
        "colab": {
          "base_uri": "https://localhost:8080/",
          "height": 297
        },
        "id": "EFTWflOqm0l1",
        "outputId": "beafa84a-02a3-4801-cdba-fbfc43ee6f98"
      },
      "source": [
        "df.describe()"
      ],
      "execution_count": null,
      "outputs": [
        {
          "output_type": "execute_result",
          "data": {
            "text/html": [
              "<div>\n",
              "<style scoped>\n",
              "    .dataframe tbody tr th:only-of-type {\n",
              "        vertical-align: middle;\n",
              "    }\n",
              "\n",
              "    .dataframe tbody tr th {\n",
              "        vertical-align: top;\n",
              "    }\n",
              "\n",
              "    .dataframe thead th {\n",
              "        text-align: right;\n",
              "    }\n",
              "</style>\n",
              "<table border=\"1\" class=\"dataframe\">\n",
              "  <thead>\n",
              "    <tr style=\"text-align: right;\">\n",
              "      <th></th>\n",
              "      <th>Restaurant ID</th>\n",
              "      <th>Country Code</th>\n",
              "      <th>Longitude</th>\n",
              "      <th>Latitude</th>\n",
              "      <th>Average Cost for two</th>\n",
              "      <th>Price range</th>\n",
              "      <th>Aggregate rating</th>\n",
              "      <th>Votes</th>\n",
              "    </tr>\n",
              "  </thead>\n",
              "  <tbody>\n",
              "    <tr>\n",
              "      <th>count</th>\n",
              "      <td>9.551000e+03</td>\n",
              "      <td>9551.000000</td>\n",
              "      <td>9551.000000</td>\n",
              "      <td>9551.000000</td>\n",
              "      <td>9551.000000</td>\n",
              "      <td>9551.000000</td>\n",
              "      <td>9551.000000</td>\n",
              "      <td>9551.000000</td>\n",
              "    </tr>\n",
              "    <tr>\n",
              "      <th>mean</th>\n",
              "      <td>9.051128e+06</td>\n",
              "      <td>18.365616</td>\n",
              "      <td>64.126574</td>\n",
              "      <td>25.854381</td>\n",
              "      <td>1199.210763</td>\n",
              "      <td>1.804837</td>\n",
              "      <td>2.666370</td>\n",
              "      <td>156.909748</td>\n",
              "    </tr>\n",
              "    <tr>\n",
              "      <th>std</th>\n",
              "      <td>8.791521e+06</td>\n",
              "      <td>56.750546</td>\n",
              "      <td>41.467058</td>\n",
              "      <td>11.007935</td>\n",
              "      <td>16121.183073</td>\n",
              "      <td>0.905609</td>\n",
              "      <td>1.516378</td>\n",
              "      <td>430.169145</td>\n",
              "    </tr>\n",
              "    <tr>\n",
              "      <th>min</th>\n",
              "      <td>5.300000e+01</td>\n",
              "      <td>1.000000</td>\n",
              "      <td>-157.948486</td>\n",
              "      <td>-41.330428</td>\n",
              "      <td>0.000000</td>\n",
              "      <td>1.000000</td>\n",
              "      <td>0.000000</td>\n",
              "      <td>0.000000</td>\n",
              "    </tr>\n",
              "    <tr>\n",
              "      <th>25%</th>\n",
              "      <td>3.019625e+05</td>\n",
              "      <td>1.000000</td>\n",
              "      <td>77.081343</td>\n",
              "      <td>28.478713</td>\n",
              "      <td>250.000000</td>\n",
              "      <td>1.000000</td>\n",
              "      <td>2.500000</td>\n",
              "      <td>5.000000</td>\n",
              "    </tr>\n",
              "    <tr>\n",
              "      <th>50%</th>\n",
              "      <td>6.004089e+06</td>\n",
              "      <td>1.000000</td>\n",
              "      <td>77.191964</td>\n",
              "      <td>28.570469</td>\n",
              "      <td>400.000000</td>\n",
              "      <td>2.000000</td>\n",
              "      <td>3.200000</td>\n",
              "      <td>31.000000</td>\n",
              "    </tr>\n",
              "    <tr>\n",
              "      <th>75%</th>\n",
              "      <td>1.835229e+07</td>\n",
              "      <td>1.000000</td>\n",
              "      <td>77.282006</td>\n",
              "      <td>28.642758</td>\n",
              "      <td>700.000000</td>\n",
              "      <td>2.000000</td>\n",
              "      <td>3.700000</td>\n",
              "      <td>131.000000</td>\n",
              "    </tr>\n",
              "    <tr>\n",
              "      <th>max</th>\n",
              "      <td>1.850065e+07</td>\n",
              "      <td>216.000000</td>\n",
              "      <td>174.832089</td>\n",
              "      <td>55.976980</td>\n",
              "      <td>800000.000000</td>\n",
              "      <td>4.000000</td>\n",
              "      <td>4.900000</td>\n",
              "      <td>10934.000000</td>\n",
              "    </tr>\n",
              "  </tbody>\n",
              "</table>\n",
              "</div>"
            ],
            "text/plain": [
              "       Restaurant ID  Country Code  ...  Aggregate rating         Votes\n",
              "count   9.551000e+03   9551.000000  ...       9551.000000   9551.000000\n",
              "mean    9.051128e+06     18.365616  ...          2.666370    156.909748\n",
              "std     8.791521e+06     56.750546  ...          1.516378    430.169145\n",
              "min     5.300000e+01      1.000000  ...          0.000000      0.000000\n",
              "25%     3.019625e+05      1.000000  ...          2.500000      5.000000\n",
              "50%     6.004089e+06      1.000000  ...          3.200000     31.000000\n",
              "75%     1.835229e+07      1.000000  ...          3.700000    131.000000\n",
              "max     1.850065e+07    216.000000  ...          4.900000  10934.000000\n",
              "\n",
              "[8 rows x 8 columns]"
            ]
          },
          "metadata": {
            "tags": []
          },
          "execution_count": 10
        }
      ]
    },
    {
      "cell_type": "code",
      "metadata": {
        "colab": {
          "base_uri": "https://localhost:8080/",
          "height": 85
        },
        "id": "QKCm8lXMm0l2",
        "outputId": "f4d13355-3ccf-4460-be5b-40a7963e91c8"
      },
      "source": [
        "display(df.dtypes.value_counts())"
      ],
      "execution_count": null,
      "outputs": [
        {
          "output_type": "display_data",
          "data": {
            "text/plain": [
              "object     13\n",
              "int64       5\n",
              "float64     3\n",
              "dtype: int64"
            ]
          },
          "metadata": {
            "tags": []
          }
        }
      ]
    },
    {
      "cell_type": "code",
      "metadata": {
        "colab": {
          "base_uri": "https://localhost:8080/"
        },
        "id": "Y2xg5DHDm0l2",
        "outputId": "d142b634-5bdd-4ee4-97d5-01fd0d21284f"
      },
      "source": [
        "df.dtypes == 'object'"
      ],
      "execution_count": null,
      "outputs": [
        {
          "output_type": "execute_result",
          "data": {
            "text/plain": [
              "Restaurant ID           False\n",
              "Restaurant Name          True\n",
              "Country Code            False\n",
              "City                     True\n",
              "Address                  True\n",
              "Locality                 True\n",
              "Locality Verbose         True\n",
              "Longitude               False\n",
              "Latitude                False\n",
              "Cuisines                 True\n",
              "Average Cost for two    False\n",
              "Currency                 True\n",
              "Has Table booking        True\n",
              "Has Online delivery      True\n",
              "Is delivering now        True\n",
              "Switch to order menu     True\n",
              "Price range             False\n",
              "Aggregate rating        False\n",
              "Rating color             True\n",
              "Rating text              True\n",
              "Votes                   False\n",
              "dtype: bool"
            ]
          },
          "metadata": {
            "tags": []
          },
          "execution_count": 12
        }
      ]
    },
    {
      "cell_type": "markdown",
      "metadata": {
        "id": "f_k_M870pDxL"
      },
      "source": [
        "\n",
        "separate numerical and categorical data"
      ]
    },
    {
      "cell_type": "code",
      "metadata": {
        "colab": {
          "base_uri": "https://localhost:8080/"
        },
        "id": "NNnsAKXim0l4",
        "outputId": "c625c574-5c1f-4a8f-d68a-931a0237772b"
      },
      "source": [
        "num_vars = df.columns[df.dtypes !='object']\n",
        "cat_vars = df.columns[df.dtypes =='object']\n",
        "print(num_vars)\n",
        "print(cat_vars)"
      ],
      "execution_count": null,
      "outputs": [
        {
          "output_type": "stream",
          "text": [
            "Index(['Restaurant ID', 'Country Code', 'Longitude', 'Latitude',\n",
            "       'Average Cost for two', 'Price range', 'Aggregate rating', 'Votes'],\n",
            "      dtype='object')\n",
            "Index(['Restaurant Name', 'City', 'Address', 'Locality', 'Locality Verbose',\n",
            "       'Cuisines', 'Currency', 'Has Table booking', 'Has Online delivery',\n",
            "       'Is delivering now', 'Switch to order menu', 'Rating color',\n",
            "       'Rating text'],\n",
            "      dtype='object')\n"
          ],
          "name": "stdout"
        }
      ]
    },
    {
      "cell_type": "code",
      "metadata": {
        "colab": {
          "base_uri": "https://localhost:8080/",
          "height": 419
        },
        "id": "Ks0fSseAm0l5",
        "outputId": "044211ba-ee4e-461c-9016-0bd8e962a8ed"
      },
      "source": [
        "df[num_vars]"
      ],
      "execution_count": null,
      "outputs": [
        {
          "output_type": "execute_result",
          "data": {
            "text/html": [
              "<div>\n",
              "<style scoped>\n",
              "    .dataframe tbody tr th:only-of-type {\n",
              "        vertical-align: middle;\n",
              "    }\n",
              "\n",
              "    .dataframe tbody tr th {\n",
              "        vertical-align: top;\n",
              "    }\n",
              "\n",
              "    .dataframe thead th {\n",
              "        text-align: right;\n",
              "    }\n",
              "</style>\n",
              "<table border=\"1\" class=\"dataframe\">\n",
              "  <thead>\n",
              "    <tr style=\"text-align: right;\">\n",
              "      <th></th>\n",
              "      <th>Restaurant ID</th>\n",
              "      <th>Country Code</th>\n",
              "      <th>Longitude</th>\n",
              "      <th>Latitude</th>\n",
              "      <th>Average Cost for two</th>\n",
              "      <th>Price range</th>\n",
              "      <th>Aggregate rating</th>\n",
              "      <th>Votes</th>\n",
              "    </tr>\n",
              "  </thead>\n",
              "  <tbody>\n",
              "    <tr>\n",
              "      <th>0</th>\n",
              "      <td>6317637</td>\n",
              "      <td>162</td>\n",
              "      <td>121.027535</td>\n",
              "      <td>14.565443</td>\n",
              "      <td>1100</td>\n",
              "      <td>3</td>\n",
              "      <td>4.8</td>\n",
              "      <td>314</td>\n",
              "    </tr>\n",
              "    <tr>\n",
              "      <th>1</th>\n",
              "      <td>6304287</td>\n",
              "      <td>162</td>\n",
              "      <td>121.014101</td>\n",
              "      <td>14.553708</td>\n",
              "      <td>1200</td>\n",
              "      <td>3</td>\n",
              "      <td>4.5</td>\n",
              "      <td>591</td>\n",
              "    </tr>\n",
              "    <tr>\n",
              "      <th>2</th>\n",
              "      <td>6300002</td>\n",
              "      <td>162</td>\n",
              "      <td>121.056831</td>\n",
              "      <td>14.581404</td>\n",
              "      <td>4000</td>\n",
              "      <td>4</td>\n",
              "      <td>4.4</td>\n",
              "      <td>270</td>\n",
              "    </tr>\n",
              "    <tr>\n",
              "      <th>3</th>\n",
              "      <td>6318506</td>\n",
              "      <td>162</td>\n",
              "      <td>121.056475</td>\n",
              "      <td>14.585318</td>\n",
              "      <td>1500</td>\n",
              "      <td>4</td>\n",
              "      <td>4.9</td>\n",
              "      <td>365</td>\n",
              "    </tr>\n",
              "    <tr>\n",
              "      <th>4</th>\n",
              "      <td>6314302</td>\n",
              "      <td>162</td>\n",
              "      <td>121.057508</td>\n",
              "      <td>14.584450</td>\n",
              "      <td>1500</td>\n",
              "      <td>4</td>\n",
              "      <td>4.8</td>\n",
              "      <td>229</td>\n",
              "    </tr>\n",
              "    <tr>\n",
              "      <th>...</th>\n",
              "      <td>...</td>\n",
              "      <td>...</td>\n",
              "      <td>...</td>\n",
              "      <td>...</td>\n",
              "      <td>...</td>\n",
              "      <td>...</td>\n",
              "      <td>...</td>\n",
              "      <td>...</td>\n",
              "    </tr>\n",
              "    <tr>\n",
              "      <th>9546</th>\n",
              "      <td>5915730</td>\n",
              "      <td>208</td>\n",
              "      <td>28.977392</td>\n",
              "      <td>41.022793</td>\n",
              "      <td>80</td>\n",
              "      <td>3</td>\n",
              "      <td>4.1</td>\n",
              "      <td>788</td>\n",
              "    </tr>\n",
              "    <tr>\n",
              "      <th>9547</th>\n",
              "      <td>5908749</td>\n",
              "      <td>208</td>\n",
              "      <td>29.041297</td>\n",
              "      <td>41.009847</td>\n",
              "      <td>105</td>\n",
              "      <td>3</td>\n",
              "      <td>4.2</td>\n",
              "      <td>1034</td>\n",
              "    </tr>\n",
              "    <tr>\n",
              "      <th>9548</th>\n",
              "      <td>5915807</td>\n",
              "      <td>208</td>\n",
              "      <td>29.034640</td>\n",
              "      <td>41.055817</td>\n",
              "      <td>170</td>\n",
              "      <td>4</td>\n",
              "      <td>3.7</td>\n",
              "      <td>661</td>\n",
              "    </tr>\n",
              "    <tr>\n",
              "      <th>9549</th>\n",
              "      <td>5916112</td>\n",
              "      <td>208</td>\n",
              "      <td>29.036019</td>\n",
              "      <td>41.057979</td>\n",
              "      <td>120</td>\n",
              "      <td>4</td>\n",
              "      <td>4.0</td>\n",
              "      <td>901</td>\n",
              "    </tr>\n",
              "    <tr>\n",
              "      <th>9550</th>\n",
              "      <td>5927402</td>\n",
              "      <td>208</td>\n",
              "      <td>29.026016</td>\n",
              "      <td>40.984776</td>\n",
              "      <td>55</td>\n",
              "      <td>2</td>\n",
              "      <td>4.0</td>\n",
              "      <td>591</td>\n",
              "    </tr>\n",
              "  </tbody>\n",
              "</table>\n",
              "<p>9551 rows × 8 columns</p>\n",
              "</div>"
            ],
            "text/plain": [
              "      Restaurant ID  Country Code  ...  Aggregate rating  Votes\n",
              "0           6317637           162  ...               4.8    314\n",
              "1           6304287           162  ...               4.5    591\n",
              "2           6300002           162  ...               4.4    270\n",
              "3           6318506           162  ...               4.9    365\n",
              "4           6314302           162  ...               4.8    229\n",
              "...             ...           ...  ...               ...    ...\n",
              "9546        5915730           208  ...               4.1    788\n",
              "9547        5908749           208  ...               4.2   1034\n",
              "9548        5915807           208  ...               3.7    661\n",
              "9549        5916112           208  ...               4.0    901\n",
              "9550        5927402           208  ...               4.0    591\n",
              "\n",
              "[9551 rows x 8 columns]"
            ]
          },
          "metadata": {
            "tags": []
          },
          "execution_count": 14
        }
      ]
    },
    {
      "cell_type": "code",
      "metadata": {
        "colab": {
          "base_uri": "https://localhost:8080/",
          "height": 419
        },
        "id": "LpOUr_tNm0l6",
        "outputId": "35395e9d-8cfa-447d-fbaf-e2927be9aa5b"
      },
      "source": [
        "df[num_vars].isnull()"
      ],
      "execution_count": null,
      "outputs": [
        {
          "output_type": "execute_result",
          "data": {
            "text/html": [
              "<div>\n",
              "<style scoped>\n",
              "    .dataframe tbody tr th:only-of-type {\n",
              "        vertical-align: middle;\n",
              "    }\n",
              "\n",
              "    .dataframe tbody tr th {\n",
              "        vertical-align: top;\n",
              "    }\n",
              "\n",
              "    .dataframe thead th {\n",
              "        text-align: right;\n",
              "    }\n",
              "</style>\n",
              "<table border=\"1\" class=\"dataframe\">\n",
              "  <thead>\n",
              "    <tr style=\"text-align: right;\">\n",
              "      <th></th>\n",
              "      <th>Restaurant ID</th>\n",
              "      <th>Country Code</th>\n",
              "      <th>Longitude</th>\n",
              "      <th>Latitude</th>\n",
              "      <th>Average Cost for two</th>\n",
              "      <th>Price range</th>\n",
              "      <th>Aggregate rating</th>\n",
              "      <th>Votes</th>\n",
              "    </tr>\n",
              "  </thead>\n",
              "  <tbody>\n",
              "    <tr>\n",
              "      <th>0</th>\n",
              "      <td>False</td>\n",
              "      <td>False</td>\n",
              "      <td>False</td>\n",
              "      <td>False</td>\n",
              "      <td>False</td>\n",
              "      <td>False</td>\n",
              "      <td>False</td>\n",
              "      <td>False</td>\n",
              "    </tr>\n",
              "    <tr>\n",
              "      <th>1</th>\n",
              "      <td>False</td>\n",
              "      <td>False</td>\n",
              "      <td>False</td>\n",
              "      <td>False</td>\n",
              "      <td>False</td>\n",
              "      <td>False</td>\n",
              "      <td>False</td>\n",
              "      <td>False</td>\n",
              "    </tr>\n",
              "    <tr>\n",
              "      <th>2</th>\n",
              "      <td>False</td>\n",
              "      <td>False</td>\n",
              "      <td>False</td>\n",
              "      <td>False</td>\n",
              "      <td>False</td>\n",
              "      <td>False</td>\n",
              "      <td>False</td>\n",
              "      <td>False</td>\n",
              "    </tr>\n",
              "    <tr>\n",
              "      <th>3</th>\n",
              "      <td>False</td>\n",
              "      <td>False</td>\n",
              "      <td>False</td>\n",
              "      <td>False</td>\n",
              "      <td>False</td>\n",
              "      <td>False</td>\n",
              "      <td>False</td>\n",
              "      <td>False</td>\n",
              "    </tr>\n",
              "    <tr>\n",
              "      <th>4</th>\n",
              "      <td>False</td>\n",
              "      <td>False</td>\n",
              "      <td>False</td>\n",
              "      <td>False</td>\n",
              "      <td>False</td>\n",
              "      <td>False</td>\n",
              "      <td>False</td>\n",
              "      <td>False</td>\n",
              "    </tr>\n",
              "    <tr>\n",
              "      <th>...</th>\n",
              "      <td>...</td>\n",
              "      <td>...</td>\n",
              "      <td>...</td>\n",
              "      <td>...</td>\n",
              "      <td>...</td>\n",
              "      <td>...</td>\n",
              "      <td>...</td>\n",
              "      <td>...</td>\n",
              "    </tr>\n",
              "    <tr>\n",
              "      <th>9546</th>\n",
              "      <td>False</td>\n",
              "      <td>False</td>\n",
              "      <td>False</td>\n",
              "      <td>False</td>\n",
              "      <td>False</td>\n",
              "      <td>False</td>\n",
              "      <td>False</td>\n",
              "      <td>False</td>\n",
              "    </tr>\n",
              "    <tr>\n",
              "      <th>9547</th>\n",
              "      <td>False</td>\n",
              "      <td>False</td>\n",
              "      <td>False</td>\n",
              "      <td>False</td>\n",
              "      <td>False</td>\n",
              "      <td>False</td>\n",
              "      <td>False</td>\n",
              "      <td>False</td>\n",
              "    </tr>\n",
              "    <tr>\n",
              "      <th>9548</th>\n",
              "      <td>False</td>\n",
              "      <td>False</td>\n",
              "      <td>False</td>\n",
              "      <td>False</td>\n",
              "      <td>False</td>\n",
              "      <td>False</td>\n",
              "      <td>False</td>\n",
              "      <td>False</td>\n",
              "    </tr>\n",
              "    <tr>\n",
              "      <th>9549</th>\n",
              "      <td>False</td>\n",
              "      <td>False</td>\n",
              "      <td>False</td>\n",
              "      <td>False</td>\n",
              "      <td>False</td>\n",
              "      <td>False</td>\n",
              "      <td>False</td>\n",
              "      <td>False</td>\n",
              "    </tr>\n",
              "    <tr>\n",
              "      <th>9550</th>\n",
              "      <td>False</td>\n",
              "      <td>False</td>\n",
              "      <td>False</td>\n",
              "      <td>False</td>\n",
              "      <td>False</td>\n",
              "      <td>False</td>\n",
              "      <td>False</td>\n",
              "      <td>False</td>\n",
              "    </tr>\n",
              "  </tbody>\n",
              "</table>\n",
              "<p>9551 rows × 8 columns</p>\n",
              "</div>"
            ],
            "text/plain": [
              "      Restaurant ID  Country Code  ...  Aggregate rating  Votes\n",
              "0             False         False  ...             False  False\n",
              "1             False         False  ...             False  False\n",
              "2             False         False  ...             False  False\n",
              "3             False         False  ...             False  False\n",
              "4             False         False  ...             False  False\n",
              "...             ...           ...  ...               ...    ...\n",
              "9546          False         False  ...             False  False\n",
              "9547          False         False  ...             False  False\n",
              "9548          False         False  ...             False  False\n",
              "9549          False         False  ...             False  False\n",
              "9550          False         False  ...             False  False\n",
              "\n",
              "[9551 rows x 8 columns]"
            ]
          },
          "metadata": {
            "tags": []
          },
          "execution_count": 15
        }
      ]
    },
    {
      "cell_type": "code",
      "metadata": {
        "colab": {
          "base_uri": "https://localhost:8080/"
        },
        "id": "2w_dJTRlm0l6",
        "outputId": "94d5ac12-1977-4bc2-e90f-8bc2301c2d3d"
      },
      "source": [
        "df[num_vars].isnull().sum()"
      ],
      "execution_count": null,
      "outputs": [
        {
          "output_type": "execute_result",
          "data": {
            "text/plain": [
              "Restaurant ID           0\n",
              "Country Code            0\n",
              "Longitude               0\n",
              "Latitude                0\n",
              "Average Cost for two    0\n",
              "Price range             0\n",
              "Aggregate rating        0\n",
              "Votes                   0\n",
              "dtype: int64"
            ]
          },
          "metadata": {
            "tags": []
          },
          "execution_count": 16
        }
      ]
    },
    {
      "cell_type": "code",
      "metadata": {
        "colab": {
          "base_uri": "https://localhost:8080/"
        },
        "id": "NcfmQf-nm0l7",
        "outputId": "5ded8dcb-4980-4be9-edde-8e8e70aec40f"
      },
      "source": [
        "df[num_vars].isnull().sum().sort_values(ascending=False)"
      ],
      "execution_count": null,
      "outputs": [
        {
          "output_type": "execute_result",
          "data": {
            "text/plain": [
              "Votes                   0\n",
              "Aggregate rating        0\n",
              "Price range             0\n",
              "Average Cost for two    0\n",
              "Latitude                0\n",
              "Longitude               0\n",
              "Country Code            0\n",
              "Restaurant ID           0\n",
              "dtype: int64"
            ]
          },
          "metadata": {
            "tags": []
          },
          "execution_count": 18
        }
      ]
    },
    {
      "cell_type": "code",
      "metadata": {
        "colab": {
          "base_uri": "https://localhost:8080/"
        },
        "id": "wDhssIR9m0l8",
        "outputId": "d9a4e5a3-becf-4bc6-ad55-46d58edbc25c"
      },
      "source": [
        "len(df)"
      ],
      "execution_count": null,
      "outputs": [
        {
          "output_type": "execute_result",
          "data": {
            "text/plain": [
              "9551"
            ]
          },
          "metadata": {
            "tags": []
          },
          "execution_count": 19
        }
      ]
    },
    {
      "cell_type": "code",
      "metadata": {
        "colab": {
          "base_uri": "https://localhost:8080/"
        },
        "id": "Ru8krNUam0l8",
        "outputId": "c4102d80-1ea1-46be-eb96-7fa50bbb92ee"
      },
      "source": [
        "df[num_vars].isnull().sum().sort_values(ascending=False)/len(df)"
      ],
      "execution_count": null,
      "outputs": [
        {
          "output_type": "execute_result",
          "data": {
            "text/plain": [
              "Votes                   0.0\n",
              "Aggregate rating        0.0\n",
              "Price range             0.0\n",
              "Average Cost for two    0.0\n",
              "Latitude                0.0\n",
              "Longitude               0.0\n",
              "Country Code            0.0\n",
              "Restaurant ID           0.0\n",
              "dtype: float64"
            ]
          },
          "metadata": {
            "tags": []
          },
          "execution_count": 20
        }
      ]
    },
    {
      "cell_type": "markdown",
      "metadata": {
        "id": "1bzc52bcpkUD"
      },
      "source": [
        "# Now we will make some visualizations to get a better understanding of our data.\n",
        "# EDA of the data set"
      ]
    },
    {
      "cell_type": "code",
      "metadata": {
        "id": "cIPnQjeBm0l9",
        "colab": {
          "base_uri": "https://localhost:8080/",
          "height": 465
        },
        "outputId": "760b834c-029a-4765-f85b-712a89d29de9"
      },
      "source": [
        "sns.set(rc={'figure.figsize':(9,7)})\n",
        "sns.countplot(x='Has Table booking',data=df,palette='viridis')"
      ],
      "execution_count": null,
      "outputs": [
        {
          "output_type": "execute_result",
          "data": {
            "text/plain": [
              "<matplotlib.axes._subplots.AxesSubplot at 0x7f288f239750>"
            ]
          },
          "metadata": {
            "tags": []
          },
          "execution_count": 8
        },
        {
          "output_type": "display_data",
          "data": {
            "image/png": "[encoded data removed]",
            "text/plain": [
              "<Figure size 648x504 with 1 Axes>"
            ]
          },
          "metadata": {
            "tags": []
          }
        }
      ]
    },
    {
      "cell_type": "markdown",
      "metadata": {
        "id": "fbWHvrAyppxe"
      },
      "source": [
        "Interpretation :-\n",
        "We can see that most of the tables havn't been booked."
      ]
    },
    {
      "cell_type": "code",
      "metadata": {
        "colab": {
          "base_uri": "https://localhost:8080/",
          "height": 465
        },
        "id": "FSi6Qc9Bm0l-",
        "outputId": "77eb5dc5-02f7-4ea1-ae31-753ef8df8441"
      },
      "source": [
        "sns.countplot(x='Has Online delivery',data=df,palette='viridis',order=['Yes','No'])"
      ],
      "execution_count": null,
      "outputs": [
        {
          "output_type": "execute_result",
          "data": {
            "text/plain": [
              "<matplotlib.axes._subplots.AxesSubplot at 0x7f287caf1c10>"
            ]
          },
          "metadata": {
            "tags": []
          },
          "execution_count": 9
        },
        {
          "output_type": "display_data",
          "data": {
            "image/png": "[encoded data removed]",
            "text/plain": [
              "<Figure size 648x504 with 1 Axes>"
            ]
          },
          "metadata": {
            "tags": []
          }
        }
      ]
    },
    {
      "cell_type": "code",
      "metadata": {
        "colab": {
          "base_uri": "https://localhost:8080/",
          "height": 465
        },
        "id": "yaAhFFrZm0l_",
        "outputId": "90a467e9-aac9-43a1-aec7-4d4af02012db"
      },
      "source": [
        "sns.countplot(x='Is delivering now',data=df,palette='viridis',order=['Yes','No'])"
      ],
      "execution_count": null,
      "outputs": [
        {
          "output_type": "execute_result",
          "data": {
            "text/plain": [
              "<matplotlib.axes._subplots.AxesSubplot at 0x7f287c785610>"
            ]
          },
          "metadata": {
            "tags": []
          },
          "execution_count": 10
        },
        {
          "output_type": "display_data",
          "data": {
            "image/png": "[encoded data removed]",
            "text/plain": [
              "<Figure size 648x504 with 1 Axes>"
            ]
          },
          "metadata": {
            "tags": []
          }
        }
      ]
    },
    {
      "cell_type": "markdown",
      "metadata": {
        "id": "vJqTmOzLp5yI"
      },
      "source": [
        "Interpretation :- With this plot, it seems that there are no deliveries. Let's take a look at the numbers."
      ]
    },
    {
      "cell_type": "code",
      "metadata": {
        "colab": {
          "base_uri": "https://localhost:8080/"
        },
        "id": "B-YqVZbNm0mA",
        "outputId": "5d3a2542-515a-4d37-a977-71b52fb5da99"
      },
      "source": [
        "df['Is delivering now'].value_counts()"
      ],
      "execution_count": null,
      "outputs": [
        {
          "output_type": "execute_result",
          "data": {
            "text/plain": [
              "No     9517\n",
              "Yes      34\n",
              "Name: Is delivering now, dtype: int64"
            ]
          },
          "metadata": {
            "tags": []
          },
          "execution_count": 11
        }
      ]
    },
    {
      "cell_type": "markdown",
      "metadata": {
        "id": "G4Mn-U1TqBsm"
      },
      "source": [
        "We can see that there are only 34 restaurants who make deliveries. Because of this imbalance in the data, we will not use this feature."
      ]
    },
    {
      "cell_type": "code",
      "metadata": {
        "colab": {
          "base_uri": "https://localhost:8080/"
        },
        "id": "9SvCegUbm0mB",
        "outputId": "6daf5847-775d-43a4-a742-e0fa32de9de5"
      },
      "source": [
        "df['Switch to order menu'].value_counts()"
      ],
      "execution_count": null,
      "outputs": [
        {
          "output_type": "execute_result",
          "data": {
            "text/plain": [
              "No    9551\n",
              "Name: Switch to order menu, dtype: int64"
            ]
          },
          "metadata": {
            "tags": []
          },
          "execution_count": 12
        }
      ]
    },
    {
      "cell_type": "markdown",
      "metadata": {
        "id": "1y8f_4VLqHtd"
      },
      "source": [
        "Interpretation :- In this column there is only one option, so we will not use this column also\n"
      ]
    },
    {
      "cell_type": "code",
      "metadata": {
        "id": "I692h4fzm0mC",
        "colab": {
          "base_uri": "https://localhost:8080/",
          "height": 465
        },
        "outputId": "b9cd316c-4b71-442a-a42e-48c696bc747f"
      },
      "source": [
        "sns.countplot(x='Price range',data=df,palette='viridis')"
      ],
      "execution_count": null,
      "outputs": [
        {
          "output_type": "execute_result",
          "data": {
            "text/plain": [
              "<matplotlib.axes._subplots.AxesSubplot at 0x7f287cb8b390>"
            ]
          },
          "metadata": {
            "tags": []
          },
          "execution_count": 13
        },
        {
          "output_type": "display_data",
          "data": {
            "image/png": "[encoded data removed]",
            "text/plain": [
              "<Figure size 648x504 with 1 Axes>"
            ]
          },
          "metadata": {
            "tags": []
          }
        }
      ]
    },
    {
      "cell_type": "markdown",
      "metadata": {
        "id": "v7oM1_0PqNUn"
      },
      "source": [
        "We can see that from all the price category, the low price category has most of the restaurants."
      ]
    },
    {
      "cell_type": "code",
      "metadata": {
        "colab": {
          "base_uri": "https://localhost:8080/",
          "height": 465
        },
        "id": "wGh26G9Gm0mD",
        "outputId": "e993322d-4a18-4dd7-c484-bf987c3d6a17"
      },
      "source": [
        "sns.countplot(x='Rating text',data=df,palette='viridis')"
      ],
      "execution_count": null,
      "outputs": [
        {
          "output_type": "execute_result",
          "data": {
            "text/plain": [
              "<matplotlib.axes._subplots.AxesSubplot at 0x7f287cbdc550>"
            ]
          },
          "metadata": {
            "tags": []
          },
          "execution_count": 14
        },
        {
          "output_type": "display_data",
          "data": {
            "image/png": "[encoded data removed]",
            "text/plain": [
              "<Figure size 648x504 with 1 Axes>"
            ]
          },
          "metadata": {
            "tags": []
          }
        }
      ]
    },
    {
      "cell_type": "markdown",
      "metadata": {
        "id": "8SQzsPkkqUei"
      },
      "source": [
        "Interpretation :- We can see that in this column the data is in a normal distribution."
      ]
    },
    {
      "cell_type": "code",
      "metadata": {
        "colab": {
          "base_uri": "https://localhost:8080/",
          "height": 465
        },
        "id": "zS3ue6kHm0mE",
        "outputId": "6959cdc9-d322-46f3-faf4-5d66a168621e"
      },
      "source": [
        "sns.countplot(x='Rating color',data=df,palette='viridis')"
      ],
      "execution_count": null,
      "outputs": [
        {
          "output_type": "execute_result",
          "data": {
            "text/plain": [
              "<matplotlib.axes._subplots.AxesSubplot at 0x7f287cd391d0>"
            ]
          },
          "metadata": {
            "tags": []
          },
          "execution_count": 15
        },
        {
          "output_type": "display_data",
          "data": {
            "image/png": "[encoded data removed]",
            "text/plain": [
              "<Figure size 648x504 with 1 Axes>"
            ]
          },
          "metadata": {
            "tags": []
          }
        }
      ]
    },
    {
      "cell_type": "markdown",
      "metadata": {
        "id": "6jcWlGFYrmxA"
      },
      "source": [
        "Interpretation :- It looks like this data here is just the same as the 'Rating text', so we will use the Rating text column."
      ]
    },
    {
      "cell_type": "code",
      "metadata": {
        "colab": {
          "base_uri": "https://localhost:8080/",
          "height": 519
        },
        "id": "KExZRaRam0mG",
        "outputId": "c707adf5-c816-4570-c37e-253730ea60a8"
      },
      "source": [
        "sns.distplot(df['Aggregate rating'], hist=True,kde=False,bins=20,color = 'blue',hist_kws={'edgecolor':'black'})"
      ],
      "execution_count": null,
      "outputs": [
        {
          "output_type": "stream",
          "text": [
            "/usr/local/lib/python3.7/dist-packages/seaborn/distributions.py:2557: FutureWarning: `distplot` is a deprecated function and will be removed in a future version. Please adapt your code to use either `displot` (a figure-level function with similar flexibility) or `histplot` (an axes-level function for histograms).\n",
            "  warnings.warn(msg, FutureWarning)\n"
          ],
          "name": "stderr"
        },
        {
          "output_type": "execute_result",
          "data": {
            "text/plain": [
              "<matplotlib.axes._subplots.AxesSubplot at 0x7f287cc5fe50>"
            ]
          },
          "metadata": {
            "tags": []
          },
          "execution_count": 16
        },
        {
          "output_type": "display_data",
          "data": {
            "image/png": "[encoded data removed]",
            "text/plain": [
              "<Figure size 648x504 with 1 Axes>"
            ]
          },
          "metadata": {
            "tags": []
          }
        }
      ]
    },
    {
      "cell_type": "markdown",
      "metadata": {
        "id": "jd3PpC8ErzZU"
      },
      "source": [
        "We can see that most of the data is distributed in a normal distribution, but there are also restaurants who got a rating of 0."
      ]
    },
    {
      "cell_type": "markdown",
      "metadata": {
        "id": "3vZyEwPcrzg-"
      },
      "source": [
        "# Now, we will do some feature engineering and try to get more from our dataset.\n",
        "\n",
        "# First, we have to change the cost column. Let's look at how many currencies we have."
      ]
    },
    {
      "cell_type": "code",
      "metadata": {
        "colab": {
          "base_uri": "https://localhost:8080/"
        },
        "id": "j-B9QGhNm0mH",
        "outputId": "6cf41008-80e3-4d8b-8469-8cbf9b6f800d"
      },
      "source": [
        "df['Currency'].unique()"
      ],
      "execution_count": 3,
      "outputs": [
        {
          "output_type": "execute_result",
          "data": {
            "text/plain": [
              "array(['Botswana Pula(P)', 'Brazilian Real(R$)', 'Dollar($)',\n",
              "       'Emirati Diram(AED)', 'Indian Rupees(Rs.)',\n",
              "       'Indonesian Rupiah(IDR)', 'NewZealand($)', 'Pounds(å£)',\n",
              "       'Qatari Rial(QR)', 'Rand(R)', 'Sri Lankan Rupee(LKR)',\n",
              "       'Turkish Lira(TL)'], dtype=object)"
            ]
          },
          "metadata": {
            "tags": []
          },
          "execution_count": 3
        }
      ]
    },
    {
      "cell_type": "code",
      "metadata": {
        "id": "wmwAC-WKm0mI"
      },
      "source": [
        "df['new cost'] = 0"
      ],
      "execution_count": 4,
      "outputs": []
    },
    {
      "cell_type": "code",
      "metadata": {
        "colab": {
          "base_uri": "https://localhost:8080/"
        },
        "id": "4k8ZNJ5Wm0mI",
        "outputId": "ee11123a-10c0-4190-8895-a064bfdb9ef7"
      },
      "source": [
        "df['Currency'].unique()"
      ],
      "execution_count": 5,
      "outputs": [
        {
          "output_type": "execute_result",
          "data": {
            "text/plain": [
              "array(['Botswana Pula(P)', 'Brazilian Real(R$)', 'Dollar($)',\n",
              "       'Emirati Diram(AED)', 'Indian Rupees(Rs.)',\n",
              "       'Indonesian Rupiah(IDR)', 'NewZealand($)', 'Pounds(å£)',\n",
              "       'Qatari Rial(QR)', 'Rand(R)', 'Sri Lankan Rupee(LKR)',\n",
              "       'Turkish Lira(TL)'], dtype=object)"
            ]
          },
          "metadata": {
            "tags": []
          },
          "execution_count": 5
        }
      ]
    },
    {
      "cell_type": "code",
      "metadata": {
        "id": "WAMFKZbYm0mJ"
      },
      "source": [
        "d = {'Botswana Pula(P)':0.095, 'Brazilian Real(R$)':0.266,'Dollar($)':1,'Emirati Diram(AED)':0.272,\n",
        "    'Indian Rupees(Rs.)':0.014,'Indonesian Rupiah(IDR)':0.00007,'NewZealand($)':0.688,'Pounds(\\x8c£)':1.314,\n",
        "    'Qatari Rial(QR)':0.274,'Rand(R)':0.072,'Sri Lankan Rupee(LKR)':0.0055,'Turkish Lira(TL)':0.188}\n",
        "\n",
        "df['new cost'] = df['Average Cost for two'] * df['Currency'].map(d) "
      ],
      "execution_count": 6,
      "outputs": []
    },
    {
      "cell_type": "markdown",
      "metadata": {
        "id": "WZcSLTC8skE-"
      },
      "source": [
        "#convertion of the currencies in one unit\n"
      ]
    },
    {
      "cell_type": "code",
      "metadata": {
        "colab": {
          "base_uri": "https://localhost:8080/",
          "height": 369
        },
        "id": "nJWG1WPym0mK",
        "outputId": "12c3e1d8-5a78-4a76-aa1a-e09c234209ca"
      },
      "source": [
        "df.head(2)"
      ],
      "execution_count": 7,
      "outputs": [
        {
          "output_type": "execute_result",
          "data": {
            "text/html": [
              "<div>\n",
              "<style scoped>\n",
              "    .dataframe tbody tr th:only-of-type {\n",
              "        vertical-align: middle;\n",
              "    }\n",
              "\n",
              "    .dataframe tbody tr th {\n",
              "        vertical-align: top;\n",
              "    }\n",
              "\n",
              "    .dataframe thead th {\n",
              "        text-align: right;\n",
              "    }\n",
              "</style>\n",
              "<table border=\"1\" class=\"dataframe\">\n",
              "  <thead>\n",
              "    <tr style=\"text-align: right;\">\n",
              "      <th></th>\n",
              "      <th>Restaurant ID</th>\n",
              "      <th>Restaurant Name</th>\n",
              "      <th>Country Code</th>\n",
              "      <th>City</th>\n",
              "      <th>Address</th>\n",
              "      <th>Locality</th>\n",
              "      <th>Locality Verbose</th>\n",
              "      <th>Longitude</th>\n",
              "      <th>Latitude</th>\n",
              "      <th>Cuisines</th>\n",
              "      <th>Average Cost for two</th>\n",
              "      <th>Currency</th>\n",
              "      <th>Has Table booking</th>\n",
              "      <th>Has Online delivery</th>\n",
              "      <th>Is delivering now</th>\n",
              "      <th>Switch to order menu</th>\n",
              "      <th>Price range</th>\n",
              "      <th>Aggregate rating</th>\n",
              "      <th>Rating color</th>\n",
              "      <th>Rating text</th>\n",
              "      <th>Votes</th>\n",
              "      <th>new cost</th>\n",
              "    </tr>\n",
              "  </thead>\n",
              "  <tbody>\n",
              "    <tr>\n",
              "      <th>0</th>\n",
              "      <td>6317637</td>\n",
              "      <td>Le Petit Souffle</td>\n",
              "      <td>162</td>\n",
              "      <td>Makati City</td>\n",
              "      <td>Third Floor, Century City Mall, Kalayaan Avenu...</td>\n",
              "      <td>Century City Mall, Poblacion, Makati City</td>\n",
              "      <td>Century City Mall, Poblacion, Makati City, Mak...</td>\n",
              "      <td>121.027535</td>\n",
              "      <td>14.565443</td>\n",
              "      <td>French, Japanese, Desserts</td>\n",
              "      <td>1100</td>\n",
              "      <td>Botswana Pula(P)</td>\n",
              "      <td>Yes</td>\n",
              "      <td>No</td>\n",
              "      <td>No</td>\n",
              "      <td>No</td>\n",
              "      <td>3</td>\n",
              "      <td>4.8</td>\n",
              "      <td>Dark Green</td>\n",
              "      <td>Excellent</td>\n",
              "      <td>314</td>\n",
              "      <td>104.5</td>\n",
              "    </tr>\n",
              "    <tr>\n",
              "      <th>1</th>\n",
              "      <td>6304287</td>\n",
              "      <td>Izakaya Kikufuji</td>\n",
              "      <td>162</td>\n",
              "      <td>Makati City</td>\n",
              "      <td>Little Tokyo, 2277 Chino Roces Avenue, Legaspi...</td>\n",
              "      <td>Little Tokyo, Legaspi Village, Makati City</td>\n",
              "      <td>Little Tokyo, Legaspi Village, Makati City, Ma...</td>\n",
              "      <td>121.014101</td>\n",
              "      <td>14.553708</td>\n",
              "      <td>Japanese</td>\n",
              "      <td>1200</td>\n",
              "      <td>Botswana Pula(P)</td>\n",
              "      <td>Yes</td>\n",
              "      <td>No</td>\n",
              "      <td>No</td>\n",
              "      <td>No</td>\n",
              "      <td>3</td>\n",
              "      <td>4.5</td>\n",
              "      <td>Dark Green</td>\n",
              "      <td>Excellent</td>\n",
              "      <td>591</td>\n",
              "      <td>114.0</td>\n",
              "    </tr>\n",
              "  </tbody>\n",
              "</table>\n",
              "</div>"
            ],
            "text/plain": [
              "   Restaurant ID   Restaurant Name  Country Code  ... Rating text Votes new cost\n",
              "0        6317637  Le Petit Souffle           162  ...   Excellent   314    104.5\n",
              "1        6304287  Izakaya Kikufuji           162  ...   Excellent   591    114.0\n",
              "\n",
              "[2 rows x 22 columns]"
            ]
          },
          "metadata": {
            "tags": []
          },
          "execution_count": 7
        }
      ]
    },
    {
      "cell_type": "markdown",
      "metadata": {
        "id": "TogjY9pUstw9"
      },
      "source": [
        "# Heat Map and Correlation "
      ]
    },
    {
      "cell_type": "code",
      "metadata": {
        "colab": {
          "base_uri": "https://localhost:8080/",
          "height": 380
        },
        "id": "_wBA1h1Zm0mK",
        "outputId": "b58ffa59-2019-49fa-aee1-0d5899a90297"
      },
      "source": [
        "## heat map\n",
        "sns.heatmap(data=df.corr(),cmap='coolwarm',annot=True)"
      ],
      "execution_count": 8,
      "outputs": [
        {
          "output_type": "execute_result",
          "data": {
            "text/plain": [
              "<matplotlib.axes._subplots.AxesSubplot at 0x7f05fa0cc510>"
            ]
          },
          "metadata": {
            "tags": []
          },
          "execution_count": 8
        },
        {
          "output_type": "display_data",
          "data": {
            "image/png": "[encoded data removed]",
            "text/plain": [
              "<Figure size 432x288 with 2 Axes>"
            ]
          },
          "metadata": {
            "tags": [],
            "needs_background": "light"
          }
        }
      ]
    },
    {
      "cell_type": "markdown",
      "metadata": {
        "id": "qXtPeM8ss2C7"
      },
      "source": [
        "##We can see that the 'price range', 'votes' and the 'new cost' correlated with our target, so we will use them in our model.\n",
        "\n",
        "##Now we will try to do some Exploratory data analysis in order to get a better understanding of the connection between our features, and between the features and the target.\n",
        "\n",
        "##We will first add new feature from our target to understand it better."
      ]
    },
    {
      "cell_type": "code",
      "metadata": {
        "id": "bnuL0-w7m0mL"
      },
      "source": [
        "df['new Rating'] = 0"
      ],
      "execution_count": 9,
      "outputs": []
    },
    {
      "cell_type": "code",
      "metadata": {
        "id": "P9BZzI_Cm0mM"
      },
      "source": [
        "mask1 = (df['Aggregate rating'] < 1)\n",
        "mask2 = (df['Aggregate rating'] >= 1) & (df['Aggregate rating'] < 2)\n",
        "mask3 = (df['Aggregate rating'] >= 2) &(df['Aggregate rating'] < 3)\n",
        "mask4 = (df['Aggregate rating'] >= 3) & (df['Aggregate rating'] < 4)\n",
        "mask5 = (df['Aggregate rating'] >= 4)\n",
        "\n",
        "df['new Rating'] = df['new Rating'].mask(mask1, 'Low')\n",
        "df['new Rating'] = df['new Rating'].mask(mask2, 'Medium -')\n",
        "df['new Rating'] = df['new Rating'].mask(mask3, 'Medium')\n",
        "df['new Rating'] = df['new Rating'].mask(mask4, 'Medium +')\n",
        "df['new Rating'] = df['new Rating'].mask(mask5, 'High')"
      ],
      "execution_count": 10,
      "outputs": []
    },
    {
      "cell_type": "code",
      "metadata": {
        "colab": {
          "base_uri": "https://localhost:8080/",
          "height": 411
        },
        "id": "-5OlxMgQm0mM",
        "outputId": "644e8dee-13bd-4599-c57c-9fbba12d2b82"
      },
      "source": [
        "sns.set(rc={'figure.figsize':(18,6)})\n",
        "sns.countplot(data=df,x='new Rating',order=['Low','Medium -','Medium','Medium +','High'])"
      ],
      "execution_count": 11,
      "outputs": [
        {
          "output_type": "execute_result",
          "data": {
            "text/plain": [
              "<matplotlib.axes._subplots.AxesSubplot at 0x7f05f91dbf10>"
            ]
          },
          "metadata": {
            "tags": []
          },
          "execution_count": 11
        },
        {
          "output_type": "display_data",
          "data": {
            "image/png": "[encoded data removed]",
            "text/plain": [
              "<Figure size 1296x432 with 1 Axes>"
            ]
          },
          "metadata": {
            "tags": []
          }
        }
      ]
    },
    {
      "cell_type": "markdown",
      "metadata": {
        "id": "9P-mt_7Qs_uf"
      },
      "source": [
        "We can see that most of the restaurants have aggregate rating between 3 to 4"
      ]
    },
    {
      "cell_type": "code",
      "metadata": {
        "colab": {
          "base_uri": "https://localhost:8080/",
          "height": 415
        },
        "id": "YInkiUQsm0mN",
        "outputId": "ae480f4c-39d2-4291-bab3-d0f6207b4430"
      },
      "source": [
        "sns.set(rc={'figure.figsize':(18,6)})\n",
        "sns.scatterplot(data=df,x='Aggregate rating',y='Votes')\n",
        "plt.ylim(0,1000)\n",
        "plt.xlim(1,5)"
      ],
      "execution_count": 12,
      "outputs": [
        {
          "output_type": "execute_result",
          "data": {
            "text/plain": [
              "(1.0, 5.0)"
            ]
          },
          "metadata": {
            "tags": []
          },
          "execution_count": 12
        },
        {
          "output_type": "display_data",
          "data": {
            "image/png": "[encoded data removed]",
            "text/plain": [
              "<Figure size 1296x432 with 1 Axes>"
            ]
          },
          "metadata": {
            "tags": []
          }
        }
      ]
    },
    {
      "cell_type": "markdown",
      "metadata": {
        "id": "v7E0RhfJtTHR"
      },
      "source": [
        "We can see correlation between the number of votes and the aggregate rating, but we can see that it isn't strong.\n"
      ]
    },
    {
      "cell_type": "code",
      "metadata": {
        "colab": {
          "base_uri": "https://localhost:8080/",
          "height": 411
        },
        "id": "gnAjvvlem0mO",
        "outputId": "802b6027-64c9-48ac-a30a-9b56714d7496"
      },
      "source": [
        "sns.countplot(data=df,x='Aggregate rating',hue='Has Table booking',palette='viridis')"
      ],
      "execution_count": 13,
      "outputs": [
        {
          "output_type": "execute_result",
          "data": {
            "text/plain": [
              "<matplotlib.axes._subplots.AxesSubplot at 0x7f05f8ff0d10>"
            ]
          },
          "metadata": {
            "tags": []
          },
          "execution_count": 13
        },
        {
          "output_type": "display_data",
          "data": {
            "image/png": "[encoded data removed]",
            "text/plain": [
              "<Figure size 1296x432 with 1 Axes>"
            ]
          },
          "metadata": {
            "tags": []
          }
        }
      ]
    },
    {
      "cell_type": "code",
      "metadata": {
        "colab": {
          "base_uri": "https://localhost:8080/",
          "height": 411
        },
        "id": "e1twouErm0mP",
        "outputId": "5dec41b0-247e-48c5-d050-84eac1d68833"
      },
      "source": [
        "sns.countplot(data=df,x='Aggregate rating',hue='Has Online delivery',palette='viridis')"
      ],
      "execution_count": 14,
      "outputs": [
        {
          "output_type": "execute_result",
          "data": {
            "text/plain": [
              "<matplotlib.axes._subplots.AxesSubplot at 0x7f05f9194d50>"
            ]
          },
          "metadata": {
            "tags": []
          },
          "execution_count": 14
        },
        {
          "output_type": "display_data",
          "data": {
            "image/png": "[encoded data removed]",
            "text/plain": [
              "<Figure size 1296x432 with 1 Axes>"
            ]
          },
          "metadata": {
            "tags": []
          }
        }
      ]
    },
    {
      "cell_type": "markdown",
      "metadata": {
        "id": "2s_6yKEUtcXU"
      },
      "source": [
        "We can see that there is a bigger correlation between the delivery feature than the table booking feature. But, we can see that both of them can help the model, so we will use them both.\n"
      ]
    },
    {
      "cell_type": "code",
      "metadata": {
        "colab": {
          "base_uri": "https://localhost:8080/",
          "height": 369
        },
        "id": "qoPdzcsgm0mP",
        "outputId": "988d5f61-b985-4101-f2ba-589859fcebcf"
      },
      "source": [
        "df.head(2)"
      ],
      "execution_count": 15,
      "outputs": [
        {
          "output_type": "execute_result",
          "data": {
            "text/html": [
              "<div>\n",
              "<style scoped>\n",
              "    .dataframe tbody tr th:only-of-type {\n",
              "        vertical-align: middle;\n",
              "    }\n",
              "\n",
              "    .dataframe tbody tr th {\n",
              "        vertical-align: top;\n",
              "    }\n",
              "\n",
              "    .dataframe thead th {\n",
              "        text-align: right;\n",
              "    }\n",
              "</style>\n",
              "<table border=\"1\" class=\"dataframe\">\n",
              "  <thead>\n",
              "    <tr style=\"text-align: right;\">\n",
              "      <th></th>\n",
              "      <th>Restaurant ID</th>\n",
              "      <th>Restaurant Name</th>\n",
              "      <th>Country Code</th>\n",
              "      <th>City</th>\n",
              "      <th>Address</th>\n",
              "      <th>Locality</th>\n",
              "      <th>Locality Verbose</th>\n",
              "      <th>Longitude</th>\n",
              "      <th>Latitude</th>\n",
              "      <th>Cuisines</th>\n",
              "      <th>Average Cost for two</th>\n",
              "      <th>Currency</th>\n",
              "      <th>Has Table booking</th>\n",
              "      <th>Has Online delivery</th>\n",
              "      <th>Is delivering now</th>\n",
              "      <th>Switch to order menu</th>\n",
              "      <th>Price range</th>\n",
              "      <th>Aggregate rating</th>\n",
              "      <th>Rating color</th>\n",
              "      <th>Rating text</th>\n",
              "      <th>Votes</th>\n",
              "      <th>new cost</th>\n",
              "      <th>new Rating</th>\n",
              "    </tr>\n",
              "  </thead>\n",
              "  <tbody>\n",
              "    <tr>\n",
              "      <th>0</th>\n",
              "      <td>6317637</td>\n",
              "      <td>Le Petit Souffle</td>\n",
              "      <td>162</td>\n",
              "      <td>Makati City</td>\n",
              "      <td>Third Floor, Century City Mall, Kalayaan Avenu...</td>\n",
              "      <td>Century City Mall, Poblacion, Makati City</td>\n",
              "      <td>Century City Mall, Poblacion, Makati City, Mak...</td>\n",
              "      <td>121.027535</td>\n",
              "      <td>14.565443</td>\n",
              "      <td>French, Japanese, Desserts</td>\n",
              "      <td>1100</td>\n",
              "      <td>Botswana Pula(P)</td>\n",
              "      <td>Yes</td>\n",
              "      <td>No</td>\n",
              "      <td>No</td>\n",
              "      <td>No</td>\n",
              "      <td>3</td>\n",
              "      <td>4.8</td>\n",
              "      <td>Dark Green</td>\n",
              "      <td>Excellent</td>\n",
              "      <td>314</td>\n",
              "      <td>104.5</td>\n",
              "      <td>High</td>\n",
              "    </tr>\n",
              "    <tr>\n",
              "      <th>1</th>\n",
              "      <td>6304287</td>\n",
              "      <td>Izakaya Kikufuji</td>\n",
              "      <td>162</td>\n",
              "      <td>Makati City</td>\n",
              "      <td>Little Tokyo, 2277 Chino Roces Avenue, Legaspi...</td>\n",
              "      <td>Little Tokyo, Legaspi Village, Makati City</td>\n",
              "      <td>Little Tokyo, Legaspi Village, Makati City, Ma...</td>\n",
              "      <td>121.014101</td>\n",
              "      <td>14.553708</td>\n",
              "      <td>Japanese</td>\n",
              "      <td>1200</td>\n",
              "      <td>Botswana Pula(P)</td>\n",
              "      <td>Yes</td>\n",
              "      <td>No</td>\n",
              "      <td>No</td>\n",
              "      <td>No</td>\n",
              "      <td>3</td>\n",
              "      <td>4.5</td>\n",
              "      <td>Dark Green</td>\n",
              "      <td>Excellent</td>\n",
              "      <td>591</td>\n",
              "      <td>114.0</td>\n",
              "      <td>High</td>\n",
              "    </tr>\n",
              "  </tbody>\n",
              "</table>\n",
              "</div>"
            ],
            "text/plain": [
              "   Restaurant ID   Restaurant Name  Country Code  ... Votes new cost new Rating\n",
              "0        6317637  Le Petit Souffle           162  ...   314    104.5       High\n",
              "1        6304287  Izakaya Kikufuji           162  ...   591    114.0       High\n",
              "\n",
              "[2 rows x 23 columns]"
            ]
          },
          "metadata": {
            "tags": []
          },
          "execution_count": 15
        }
      ]
    },
    {
      "cell_type": "markdown",
      "metadata": {
        "id": "riDhKMNFtjOf"
      },
      "source": [
        "##Now, after we deecided which columns we will use, we have to create subset from our dataset."
      ]
    },
    {
      "cell_type": "code",
      "metadata": {
        "colab": {
          "base_uri": "https://localhost:8080/",
          "height": 204
        },
        "id": "xQ5wamfbm0mQ",
        "outputId": "6092e97b-d87b-4447-de6e-5ec90fbd7856"
      },
      "source": [
        "new_df = df[['Has Table booking','Has Online delivery','Price range','Rating text','Votes','new cost','Aggregate rating']]\n",
        "new_df.head()"
      ],
      "execution_count": 16,
      "outputs": [
        {
          "output_type": "execute_result",
          "data": {
            "text/html": [
              "<div>\n",
              "<style scoped>\n",
              "    .dataframe tbody tr th:only-of-type {\n",
              "        vertical-align: middle;\n",
              "    }\n",
              "\n",
              "    .dataframe tbody tr th {\n",
              "        vertical-align: top;\n",
              "    }\n",
              "\n",
              "    .dataframe thead th {\n",
              "        text-align: right;\n",
              "    }\n",
              "</style>\n",
              "<table border=\"1\" class=\"dataframe\">\n",
              "  <thead>\n",
              "    <tr style=\"text-align: right;\">\n",
              "      <th></th>\n",
              "      <th>Has Table booking</th>\n",
              "      <th>Has Online delivery</th>\n",
              "      <th>Price range</th>\n",
              "      <th>Rating text</th>\n",
              "      <th>Votes</th>\n",
              "      <th>new cost</th>\n",
              "      <th>Aggregate rating</th>\n",
              "    </tr>\n",
              "  </thead>\n",
              "  <tbody>\n",
              "    <tr>\n",
              "      <th>0</th>\n",
              "      <td>Yes</td>\n",
              "      <td>No</td>\n",
              "      <td>3</td>\n",
              "      <td>Excellent</td>\n",
              "      <td>314</td>\n",
              "      <td>104.5</td>\n",
              "      <td>4.8</td>\n",
              "    </tr>\n",
              "    <tr>\n",
              "      <th>1</th>\n",
              "      <td>Yes</td>\n",
              "      <td>No</td>\n",
              "      <td>3</td>\n",
              "      <td>Excellent</td>\n",
              "      <td>591</td>\n",
              "      <td>114.0</td>\n",
              "      <td>4.5</td>\n",
              "    </tr>\n",
              "    <tr>\n",
              "      <th>2</th>\n",
              "      <td>Yes</td>\n",
              "      <td>No</td>\n",
              "      <td>4</td>\n",
              "      <td>Very Good</td>\n",
              "      <td>270</td>\n",
              "      <td>380.0</td>\n",
              "      <td>4.4</td>\n",
              "    </tr>\n",
              "    <tr>\n",
              "      <th>3</th>\n",
              "      <td>No</td>\n",
              "      <td>No</td>\n",
              "      <td>4</td>\n",
              "      <td>Excellent</td>\n",
              "      <td>365</td>\n",
              "      <td>142.5</td>\n",
              "      <td>4.9</td>\n",
              "    </tr>\n",
              "    <tr>\n",
              "      <th>4</th>\n",
              "      <td>Yes</td>\n",
              "      <td>No</td>\n",
              "      <td>4</td>\n",
              "      <td>Excellent</td>\n",
              "      <td>229</td>\n",
              "      <td>142.5</td>\n",
              "      <td>4.8</td>\n",
              "    </tr>\n",
              "  </tbody>\n",
              "</table>\n",
              "</div>"
            ],
            "text/plain": [
              "  Has Table booking Has Online delivery  ...  new cost Aggregate rating\n",
              "0               Yes                  No  ...     104.5              4.8\n",
              "1               Yes                  No  ...     114.0              4.5\n",
              "2               Yes                  No  ...     380.0              4.4\n",
              "3                No                  No  ...     142.5              4.9\n",
              "4               Yes                  No  ...     142.5              4.8\n",
              "\n",
              "[5 rows x 7 columns]"
            ]
          },
          "metadata": {
            "tags": []
          },
          "execution_count": 16
        }
      ]
    },
    {
      "cell_type": "markdown",
      "metadata": {
        "id": "dHkheenVtqNj"
      },
      "source": [
        "##We can see that we have some features that have to be encoded in order to fit the machine learning algorithms (the scikit-learn library can't get any text)."
      ]
    },
    {
      "cell_type": "code",
      "metadata": {
        "id": "hPEppE9_m0mR"
      },
      "source": [
        "new_df = pd.get_dummies(new_df, columns=['Has Table booking','Has Online delivery','Price range','Rating text'])"
      ],
      "execution_count": 17,
      "outputs": []
    },
    {
      "cell_type": "code",
      "metadata": {
        "colab": {
          "base_uri": "https://localhost:8080/",
          "height": 258
        },
        "id": "sNDQKCkwm0mS",
        "outputId": "6a677972-20eb-4edc-8726-4a0a91de6d68"
      },
      "source": [
        "new_df.head()"
      ],
      "execution_count": 18,
      "outputs": [
        {
          "output_type": "execute_result",
          "data": {
            "text/html": [
              "<div>\n",
              "<style scoped>\n",
              "    .dataframe tbody tr th:only-of-type {\n",
              "        vertical-align: middle;\n",
              "    }\n",
              "\n",
              "    .dataframe tbody tr th {\n",
              "        vertical-align: top;\n",
              "    }\n",
              "\n",
              "    .dataframe thead th {\n",
              "        text-align: right;\n",
              "    }\n",
              "</style>\n",
              "<table border=\"1\" class=\"dataframe\">\n",
              "  <thead>\n",
              "    <tr style=\"text-align: right;\">\n",
              "      <th></th>\n",
              "      <th>Votes</th>\n",
              "      <th>new cost</th>\n",
              "      <th>Aggregate rating</th>\n",
              "      <th>Has Table booking_No</th>\n",
              "      <th>Has Table booking_Yes</th>\n",
              "      <th>Has Online delivery_No</th>\n",
              "      <th>Has Online delivery_Yes</th>\n",
              "      <th>Price range_1</th>\n",
              "      <th>Price range_2</th>\n",
              "      <th>Price range_3</th>\n",
              "      <th>Price range_4</th>\n",
              "      <th>Rating text_Average</th>\n",
              "      <th>Rating text_Excellent</th>\n",
              "      <th>Rating text_Good</th>\n",
              "      <th>Rating text_Not rated</th>\n",
              "      <th>Rating text_Poor</th>\n",
              "      <th>Rating text_Very Good</th>\n",
              "    </tr>\n",
              "  </thead>\n",
              "  <tbody>\n",
              "    <tr>\n",
              "      <th>0</th>\n",
              "      <td>314</td>\n",
              "      <td>104.5</td>\n",
              "      <td>4.8</td>\n",
              "      <td>0</td>\n",
              "      <td>1</td>\n",
              "      <td>1</td>\n",
              "      <td>0</td>\n",
              "      <td>0</td>\n",
              "      <td>0</td>\n",
              "      <td>1</td>\n",
              "      <td>0</td>\n",
              "      <td>0</td>\n",
              "      <td>1</td>\n",
              "      <td>0</td>\n",
              "      <td>0</td>\n",
              "      <td>0</td>\n",
              "      <td>0</td>\n",
              "    </tr>\n",
              "    <tr>\n",
              "      <th>1</th>\n",
              "      <td>591</td>\n",
              "      <td>114.0</td>\n",
              "      <td>4.5</td>\n",
              "      <td>0</td>\n",
              "      <td>1</td>\n",
              "      <td>1</td>\n",
              "      <td>0</td>\n",
              "      <td>0</td>\n",
              "      <td>0</td>\n",
              "      <td>1</td>\n",
              "      <td>0</td>\n",
              "      <td>0</td>\n",
              "      <td>1</td>\n",
              "      <td>0</td>\n",
              "      <td>0</td>\n",
              "      <td>0</td>\n",
              "      <td>0</td>\n",
              "    </tr>\n",
              "    <tr>\n",
              "      <th>2</th>\n",
              "      <td>270</td>\n",
              "      <td>380.0</td>\n",
              "      <td>4.4</td>\n",
              "      <td>0</td>\n",
              "      <td>1</td>\n",
              "      <td>1</td>\n",
              "      <td>0</td>\n",
              "      <td>0</td>\n",
              "      <td>0</td>\n",
              "      <td>0</td>\n",
              "      <td>1</td>\n",
              "      <td>0</td>\n",
              "      <td>0</td>\n",
              "      <td>0</td>\n",
              "      <td>0</td>\n",
              "      <td>0</td>\n",
              "      <td>1</td>\n",
              "    </tr>\n",
              "    <tr>\n",
              "      <th>3</th>\n",
              "      <td>365</td>\n",
              "      <td>142.5</td>\n",
              "      <td>4.9</td>\n",
              "      <td>1</td>\n",
              "      <td>0</td>\n",
              "      <td>1</td>\n",
              "      <td>0</td>\n",
              "      <td>0</td>\n",
              "      <td>0</td>\n",
              "      <td>0</td>\n",
              "      <td>1</td>\n",
              "      <td>0</td>\n",
              "      <td>1</td>\n",
              "      <td>0</td>\n",
              "      <td>0</td>\n",
              "      <td>0</td>\n",
              "      <td>0</td>\n",
              "    </tr>\n",
              "    <tr>\n",
              "      <th>4</th>\n",
              "      <td>229</td>\n",
              "      <td>142.5</td>\n",
              "      <td>4.8</td>\n",
              "      <td>0</td>\n",
              "      <td>1</td>\n",
              "      <td>1</td>\n",
              "      <td>0</td>\n",
              "      <td>0</td>\n",
              "      <td>0</td>\n",
              "      <td>0</td>\n",
              "      <td>1</td>\n",
              "      <td>0</td>\n",
              "      <td>1</td>\n",
              "      <td>0</td>\n",
              "      <td>0</td>\n",
              "      <td>0</td>\n",
              "      <td>0</td>\n",
              "    </tr>\n",
              "  </tbody>\n",
              "</table>\n",
              "</div>"
            ],
            "text/plain": [
              "   Votes  new cost  ...  Rating text_Poor  Rating text_Very Good\n",
              "0    314     104.5  ...                 0                      0\n",
              "1    591     114.0  ...                 0                      0\n",
              "2    270     380.0  ...                 0                      1\n",
              "3    365     142.5  ...                 0                      0\n",
              "4    229     142.5  ...                 0                      0\n",
              "\n",
              "[5 rows x 17 columns]"
            ]
          },
          "metadata": {
            "tags": []
          },
          "execution_count": 18
        }
      ]
    },
    {
      "cell_type": "code",
      "metadata": {
        "colab": {
          "base_uri": "https://localhost:8080/"
        },
        "id": "1uPpQlH5m0mS",
        "outputId": "13b1083c-bf07-47df-e117-36a3b513f99b"
      },
      "source": [
        "np.isnan(new_df).sum()"
      ],
      "execution_count": 19,
      "outputs": [
        {
          "output_type": "execute_result",
          "data": {
            "text/plain": [
              "Votes                       0\n",
              "new cost                   80\n",
              "Aggregate rating            0\n",
              "Has Table booking_No        0\n",
              "Has Table booking_Yes       0\n",
              "Has Online delivery_No      0\n",
              "Has Online delivery_Yes     0\n",
              "Price range_1               0\n",
              "Price range_2               0\n",
              "Price range_3               0\n",
              "Price range_4               0\n",
              "Rating text_Average         0\n",
              "Rating text_Excellent       0\n",
              "Rating text_Good            0\n",
              "Rating text_Not rated       0\n",
              "Rating text_Poor            0\n",
              "Rating text_Very Good       0\n",
              "dtype: int64"
            ]
          },
          "metadata": {
            "tags": []
          },
          "execution_count": 19
        }
      ]
    },
    {
      "cell_type": "code",
      "metadata": {
        "colab": {
          "base_uri": "https://localhost:8080/"
        },
        "id": "8qbiPLgxm0mS",
        "outputId": "ed64809f-16ac-4916-dbe4-f62b6153e3e0"
      },
      "source": [
        "mean_value=new_df['new cost'].mean()\n",
        "mean_value"
      ],
      "execution_count": 20,
      "outputs": [
        {
          "output_type": "execute_result",
          "data": {
            "text/plain": [
              "11.096499630450825"
            ]
          },
          "metadata": {
            "tags": []
          },
          "execution_count": 20
        }
      ]
    },
    {
      "cell_type": "code",
      "metadata": {
        "id": "4HOQwoCxm0mT"
      },
      "source": [
        "new_df['new cost'].fillna(value=mean_value, inplace=True)"
      ],
      "execution_count": 21,
      "outputs": []
    },
    {
      "cell_type": "code",
      "metadata": {
        "colab": {
          "base_uri": "https://localhost:8080/"
        },
        "id": "gacXzeO7m0mT",
        "outputId": "87133019-6cdd-4142-b968-2017610ecfef"
      },
      "source": [
        "np.isnan(new_df).sum()"
      ],
      "execution_count": 22,
      "outputs": [
        {
          "output_type": "execute_result",
          "data": {
            "text/plain": [
              "Votes                      0\n",
              "new cost                   0\n",
              "Aggregate rating           0\n",
              "Has Table booking_No       0\n",
              "Has Table booking_Yes      0\n",
              "Has Online delivery_No     0\n",
              "Has Online delivery_Yes    0\n",
              "Price range_1              0\n",
              "Price range_2              0\n",
              "Price range_3              0\n",
              "Price range_4              0\n",
              "Rating text_Average        0\n",
              "Rating text_Excellent      0\n",
              "Rating text_Good           0\n",
              "Rating text_Not rated      0\n",
              "Rating text_Poor           0\n",
              "Rating text_Very Good      0\n",
              "dtype: int64"
            ]
          },
          "metadata": {
            "tags": []
          },
          "execution_count": 22
        }
      ]
    },
    {
      "cell_type": "markdown",
      "metadata": {
        "id": "_Ikgk0G8xAH6"
      },
      "source": [
        "#Chi square test"
      ]
    },
    {
      "cell_type": "code",
      "metadata": {
        "id": "axHybJnLxFye"
      },
      "source": [
        "ct=pd.crosstab(index=df['Has Online delivery'],columns=df['Price range']) "
      ],
      "execution_count": 51,
      "outputs": []
    },
    {
      "cell_type": "code",
      "metadata": {
        "colab": {
          "base_uri": "https://localhost:8080/",
          "height": 142
        },
        "id": "7Qw6uEJuyoYn",
        "outputId": "742a13aa-2ca8-4add-f657-d7398aa0ed7f"
      },
      "source": [
        "ct"
      ],
      "execution_count": 52,
      "outputs": [
        {
          "output_type": "execute_result",
          "data": {
            "text/html": [
              "<div>\n",
              "<style scoped>\n",
              "    .dataframe tbody tr th:only-of-type {\n",
              "        vertical-align: middle;\n",
              "    }\n",
              "\n",
              "    .dataframe tbody tr th {\n",
              "        vertical-align: top;\n",
              "    }\n",
              "\n",
              "    .dataframe thead th {\n",
              "        text-align: right;\n",
              "    }\n",
              "</style>\n",
              "<table border=\"1\" class=\"dataframe\">\n",
              "  <thead>\n",
              "    <tr style=\"text-align: right;\">\n",
              "      <th>Price range</th>\n",
              "      <th>1</th>\n",
              "      <th>2</th>\n",
              "      <th>3</th>\n",
              "      <th>4</th>\n",
              "    </tr>\n",
              "    <tr>\n",
              "      <th>Has Online delivery</th>\n",
              "      <th></th>\n",
              "      <th></th>\n",
              "      <th></th>\n",
              "      <th></th>\n",
              "    </tr>\n",
              "  </thead>\n",
              "  <tbody>\n",
              "    <tr>\n",
              "      <th>No</th>\n",
              "      <td>3743</td>\n",
              "      <td>1827</td>\n",
              "      <td>997</td>\n",
              "      <td>533</td>\n",
              "    </tr>\n",
              "    <tr>\n",
              "      <th>Yes</th>\n",
              "      <td>701</td>\n",
              "      <td>1286</td>\n",
              "      <td>411</td>\n",
              "      <td>53</td>\n",
              "    </tr>\n",
              "  </tbody>\n",
              "</table>\n",
              "</div>"
            ],
            "text/plain": [
              "Price range             1     2    3    4\n",
              "Has Online delivery                      \n",
              "No                   3743  1827  997  533\n",
              "Yes                   701  1286  411   53"
            ]
          },
          "metadata": {
            "tags": []
          },
          "execution_count": 52
        }
      ]
    },
    {
      "cell_type": "code",
      "metadata": {
        "colab": {
          "base_uri": "https://localhost:8080/"
        },
        "id": "GokI4RV90Dw7",
        "outputId": "a270366f-78b6-4bc6-d86d-41a1db07ac03"
      },
      "source": [
        "ct.iloc[1].values"
      ],
      "execution_count": 53,
      "outputs": [
        {
          "output_type": "execute_result",
          "data": {
            "text/plain": [
              "array([ 701, 1286,  411,   53])"
            ]
          },
          "metadata": {
            "tags": []
          },
          "execution_count": 53
        }
      ]
    },
    {
      "cell_type": "code",
      "metadata": {
        "id": "DVvQGmOb0Ria"
      },
      "source": [
        "from scipy import stats"
      ],
      "execution_count": 54,
      "outputs": []
    },
    {
      "cell_type": "code",
      "metadata": {
        "id": "mfghawUQ0eDm"
      },
      "source": [
        "(chi2, p, dof,_)=stats.chi2_contingency([ct.iloc[0].values,ct.iloc[1].values])"
      ],
      "execution_count": 55,
      "outputs": []
    },
    {
      "cell_type": "code",
      "metadata": {
        "colab": {
          "base_uri": "https://localhost:8080/"
        },
        "id": "d5s4Vgj43hyq",
        "outputId": "4f2fab97-4bc1-4d1f-a9d7-9915ff861215"
      },
      "source": [
        "print('chi2 :',chi2)\n",
        "print('p-value :',p)\n",
        "print('degree of freedom :',dof)"
      ],
      "execution_count": 56,
      "outputs": [
        {
          "output_type": "stream",
          "text": [
            "chi2 : 721.3786767489617\n",
            "p-value : 4.855491091732131e-156\n",
            "degree of freedom : 3\n"
          ],
          "name": "stdout"
        }
      ]
    },
    {
      "cell_type": "code",
      "metadata": {
        "colab": {
          "base_uri": "https://localhost:8080/",
          "height": 173
        },
        "id": "R_qmrtIt4bM5",
        "outputId": "3fb876ea-7a09-44ba-8b7d-e9e91b48ed3a"
      },
      "source": [
        "pd.crosstab(index=df['Has Online delivery'],columns=['price range'],margins=True)"
      ],
      "execution_count": 57,
      "outputs": [
        {
          "output_type": "execute_result",
          "data": {
            "text/html": [
              "<div>\n",
              "<style scoped>\n",
              "    .dataframe tbody tr th:only-of-type {\n",
              "        vertical-align: middle;\n",
              "    }\n",
              "\n",
              "    .dataframe tbody tr th {\n",
              "        vertical-align: top;\n",
              "    }\n",
              "\n",
              "    .dataframe thead th {\n",
              "        text-align: right;\n",
              "    }\n",
              "</style>\n",
              "<table border=\"1\" class=\"dataframe\">\n",
              "  <thead>\n",
              "    <tr style=\"text-align: right;\">\n",
              "      <th>col_0</th>\n",
              "      <th>price range</th>\n",
              "      <th>All</th>\n",
              "    </tr>\n",
              "    <tr>\n",
              "      <th>Has Online delivery</th>\n",
              "      <th></th>\n",
              "      <th></th>\n",
              "    </tr>\n",
              "  </thead>\n",
              "  <tbody>\n",
              "    <tr>\n",
              "      <th>No</th>\n",
              "      <td>7100</td>\n",
              "      <td>7100</td>\n",
              "    </tr>\n",
              "    <tr>\n",
              "      <th>Yes</th>\n",
              "      <td>2451</td>\n",
              "      <td>2451</td>\n",
              "    </tr>\n",
              "    <tr>\n",
              "      <th>All</th>\n",
              "      <td>9551</td>\n",
              "      <td>9551</td>\n",
              "    </tr>\n",
              "  </tbody>\n",
              "</table>\n",
              "</div>"
            ],
            "text/plain": [
              "col_0                price range   All\n",
              "Has Online delivery                   \n",
              "No                          7100  7100\n",
              "Yes                         2451  2451\n",
              "All                         9551  9551"
            ]
          },
          "metadata": {
            "tags": []
          },
          "execution_count": 57
        }
      ]
    },
    {
      "cell_type": "code",
      "metadata": {
        "colab": {
          "base_uri": "https://localhost:8080/"
        },
        "id": "BFLOisjEm0mX",
        "outputId": "cc9f8660-6cd3-4346-ef63-503d17f58bff"
      },
      "source": [
        "from sklearn.tree import DecisionTreeRegressor\n",
        "dt= DecisionTreeRegressor()\n",
        "dt.fit(X_train,y_train)\n",
        "dt_pred=dt.predict(X_test)\n",
        "print(r2_score(y_test,np.round(lr_pred,decimals=1))) \n",
        "print('RMSE score through Decision tree regression : ',np.sqrt(metrics.mean_squared_error(y_test,np.round(dt_pred,decimals=1))))"
      ],
      "execution_count": 58,
      "outputs": [
        {
          "output_type": "stream",
          "text": [
            "0.9857165736919926\n",
            "RMSE score through Decision tree regression :  0.22905644011128565\n"
          ],
          "name": "stdout"
        }
      ]
    },
    {
      "cell_type": "markdown",
      "metadata": {
        "id": "ditiKxS2t3uR"
      },
      "source": [
        "## Multi Linear Regression."
      ]
    },
    {
      "cell_type": "code",
      "metadata": {
        "id": "CxelLni5m0mU"
      },
      "source": [
        "X = new_df[['Votes','new cost','Has Table booking_No','Has Table booking_Yes','Has Online delivery_No','Has Online delivery_Yes','Price range_1','Price range_2','Price range_3','Price range_4','Rating text_Average','Rating text_Excellent','Rating text_Good','Rating text_Not rated','Rating text_Poor','Rating text_Very Good']]\n",
        "y = new_df['Aggregate rating']"
      ],
      "execution_count": 59,
      "outputs": []
    },
    {
      "cell_type": "code",
      "metadata": {
        "id": "tFRLXuTvm0mU"
      },
      "source": [
        "from sklearn.linear_model import LinearRegression\n",
        "from sklearn import metrics\n",
        "from sklearn.metrics import r2_score"
      ],
      "execution_count": 60,
      "outputs": []
    },
    {
      "cell_type": "code",
      "metadata": {
        "id": "gFpseAS0m0mV"
      },
      "source": [
        "from sklearn import model_selection\n",
        "from sklearn.model_selection import train_test_split\n",
        "X_train, X_test, y_train, y_test = train_test_split(X, y, test_size=0.3, random_state=42)"
      ],
      "execution_count": 61,
      "outputs": []
    },
    {
      "cell_type": "code",
      "metadata": {
        "colab": {
          "base_uri": "https://localhost:8080/"
        },
        "id": "I_zxPE4Um0mV",
        "outputId": "9f1ad506-a400-4fc0-fda0-7f7dab845448"
      },
      "source": [
        "\n",
        "lr = LinearRegression() # Defing the linear regression model \n",
        "lr.fit(X_train,y_train) #Fitting the data into the algorithm\n"
      ],
      "execution_count": 62,
      "outputs": [
        {
          "output_type": "execute_result",
          "data": {
            "text/plain": [
              "LinearRegression(copy_X=True, fit_intercept=True, n_jobs=None, normalize=False)"
            ]
          },
          "metadata": {
            "tags": []
          },
          "execution_count": 62
        }
      ]
    },
    {
      "cell_type": "code",
      "metadata": {
        "colab": {
          "base_uri": "https://localhost:8080/"
        },
        "id": "o8kaOUBem0mW",
        "outputId": "3ae45cc4-9dc1-48eb-ab98-b09bb1421032"
      },
      "source": [
        "lr_pred = lr.predict(X_test)\n",
        "lr_pred"
      ],
      "execution_count": 63,
      "outputs": [
        {
          "output_type": "execute_result",
          "data": {
            "text/plain": [
              "array([ 2.29789469e+00,  4.12040416e+00,  3.05456918e+00, ...,\n",
              "        3.67323631e+00, -1.37250395e-03,  3.83720699e+00])"
            ]
          },
          "metadata": {
            "tags": []
          },
          "execution_count": 63
        }
      ]
    },
    {
      "cell_type": "code",
      "metadata": {
        "id": "2PjvoQKdm0mW"
      },
      "source": [
        "\n",
        "from sklearn.linear_model import LinearRegression\n",
        "from sklearn import metrics\n",
        "from sklearn.metrics import r2_score"
      ],
      "execution_count": 64,
      "outputs": []
    },
    {
      "cell_type": "code",
      "metadata": {
        "colab": {
          "base_uri": "https://localhost:8080/"
        },
        "id": "Kmfxhlmjm0mW",
        "outputId": "8f3e00ff-1d9a-468d-d58b-36335214d7cd"
      },
      "source": [
        "print(r2_score(y_test,np.round(lr_pred,decimals=1))) \n",
        "print('RMSE score through Linear regression : ',np.sqrt(metrics.mean_squared_error(y_test,np.round(lr_pred,decimals=1))))"
      ],
      "execution_count": 67,
      "outputs": [
        {
          "output_type": "stream",
          "text": [
            "0.9857165736919926\n",
            "RMSE score through Linear regression :  0.17977849439838664\n"
          ],
          "name": "stdout"
        }
      ]
    },
    {
      "cell_type": "code",
      "metadata": {
        "colab": {
          "base_uri": "https://localhost:8080/"
        },
        "id": "RiUki-6om0mX",
        "outputId": "04a62818-8cd3-4f9b-cf6a-7ab021d7d3be"
      },
      "source": [
        "print(r2_score(y_test,np.round(lr_pred,decimals=1))) "
      ],
      "execution_count": 68,
      "outputs": [
        {
          "output_type": "stream",
          "text": [
            "0.9857165736919926\n"
          ],
          "name": "stdout"
        }
      ]
    },
    {
      "cell_type": "markdown",
      "metadata": {
        "id": "NIrVHEehdvFm"
      },
      "source": [
        "#Stat Model\n"
      ]
    },
    {
      "cell_type": "code",
      "metadata": {
        "id": "wdyvFISUdtLV"
      },
      "source": [
        "from sklearn import model_selection\n",
        "from sklearn.model_selection import train_test_split\n",
        "X_train, X_test, y_train, y_test = train_test_split(X, y, test_size=0.3, random_state=42)"
      ],
      "execution_count": 69,
      "outputs": []
    },
    {
      "cell_type": "code",
      "metadata": {
        "colab": {
          "base_uri": "https://localhost:8080/",
          "height": 1000
        },
        "id": "3nF6yRMUeG-l",
        "outputId": "589133f8-c71f-461d-b4b8-4b437638a788"
      },
      "source": [
        "import statsmodels.api as sm\n",
        "#Usings Statsmodel\n",
        "\n",
        "x1 = sm.add_constant(X)\n",
        "results = sm.OLS(y_train,X_train).fit()\n",
        "results.summary()"
      ],
      "execution_count": 70,
      "outputs": [
        {
          "output_type": "execute_result",
          "data": {
            "text/html": [
              "<table class=\"simpletable\">\n",
              "<caption>OLS Regression Results</caption>\n",
              "<tr>\n",
              "  <th>Dep. Variable:</th>    <td>Aggregate rating</td> <th>  R-squared:         </th> <td>   0.986</td> \n",
              "</tr>\n",
              "<tr>\n",
              "  <th>Model:</th>                   <td>OLS</td>       <th>  Adj. R-squared:    </th> <td>   0.986</td> \n",
              "</tr>\n",
              "<tr>\n",
              "  <th>Method:</th>             <td>Least Squares</td>  <th>  F-statistic:       </th> <td>3.999e+04</td>\n",
              "</tr>\n",
              "<tr>\n",
              "  <th>Date:</th>             <td>Thu, 13 May 2021</td> <th>  Prob (F-statistic):</th>  <td>  0.00</td>  \n",
              "</tr>\n",
              "<tr>\n",
              "  <th>Time:</th>                 <td>16:28:22</td>     <th>  Log-Likelihood:    </th> <td>  2047.1</td> \n",
              "</tr>\n",
              "<tr>\n",
              "  <th>No. Observations:</th>      <td>  6685</td>      <th>  AIC:               </th> <td>  -4068.</td> \n",
              "</tr>\n",
              "<tr>\n",
              "  <th>Df Residuals:</th>          <td>  6672</td>      <th>  BIC:               </th> <td>  -3980.</td> \n",
              "</tr>\n",
              "<tr>\n",
              "  <th>Df Model:</th>              <td>    12</td>      <th>                     </th>     <td> </td>    \n",
              "</tr>\n",
              "<tr>\n",
              "  <th>Covariance Type:</th>      <td>nonrobust</td>    <th>                     </th>     <td> </td>    \n",
              "</tr>\n",
              "</table>\n",
              "<table class=\"simpletable\">\n",
              "<tr>\n",
              "             <td></td>                <th>coef</th>     <th>std err</th>      <th>t</th>      <th>P>|t|</th>  <th>[0.025</th>    <th>0.975]</th>  \n",
              "</tr>\n",
              "<tr>\n",
              "  <th>Votes</th>                   <td> 3.499e-05</td> <td> 5.97e-06</td> <td>    5.858</td> <td> 0.000</td> <td> 2.33e-05</td> <td> 4.67e-05</td>\n",
              "</tr>\n",
              "<tr>\n",
              "  <th>new cost</th>                <td>    0.0004</td> <td>    0.000</td> <td>    2.323</td> <td> 0.020</td> <td> 6.37e-05</td> <td>    0.001</td>\n",
              "</tr>\n",
              "<tr>\n",
              "  <th>Has Table booking_No</th>    <td>    1.0561</td> <td>    0.004</td> <td>  270.583</td> <td> 0.000</td> <td>    1.048</td> <td>    1.064</td>\n",
              "</tr>\n",
              "<tr>\n",
              "  <th>Has Table booking_Yes</th>   <td>    1.0299</td> <td>    0.005</td> <td>  194.781</td> <td> 0.000</td> <td>    1.020</td> <td>    1.040</td>\n",
              "</tr>\n",
              "<tr>\n",
              "  <th>Has Online delivery_No</th>  <td>    1.0510</td> <td>    0.003</td> <td>  327.003</td> <td> 0.000</td> <td>    1.045</td> <td>    1.057</td>\n",
              "</tr>\n",
              "<tr>\n",
              "  <th>Has Online delivery_Yes</th> <td>    1.0350</td> <td>    0.004</td> <td>  273.666</td> <td> 0.000</td> <td>    1.028</td> <td>    1.042</td>\n",
              "</tr>\n",
              "<tr>\n",
              "  <th>Price range_1</th>           <td>    0.4974</td> <td>    0.005</td> <td>   94.833</td> <td> 0.000</td> <td>    0.487</td> <td>    0.508</td>\n",
              "</tr>\n",
              "<tr>\n",
              "  <th>Price range_2</th>           <td>    0.5050</td> <td>    0.005</td> <td>  109.157</td> <td> 0.000</td> <td>    0.496</td> <td>    0.514</td>\n",
              "</tr>\n",
              "<tr>\n",
              "  <th>Price range_3</th>           <td>    0.5375</td> <td>    0.005</td> <td>   99.450</td> <td> 0.000</td> <td>    0.527</td> <td>    0.548</td>\n",
              "</tr>\n",
              "<tr>\n",
              "  <th>Price range_4</th>           <td>    0.5462</td> <td>    0.009</td> <td>   58.866</td> <td> 0.000</td> <td>    0.528</td> <td>    0.564</td>\n",
              "</tr>\n",
              "<tr>\n",
              "  <th>Rating text_Average</th>     <td>    0.4380</td> <td>    0.005</td> <td>   92.610</td> <td> 0.000</td> <td>    0.429</td> <td>    0.447</td>\n",
              "</tr>\n",
              "<tr>\n",
              "  <th>Rating text_Excellent</th>   <td>    1.9886</td> <td>    0.012</td> <td>  168.232</td> <td> 0.000</td> <td>    1.965</td> <td>    2.012</td>\n",
              "</tr>\n",
              "<tr>\n",
              "  <th>Rating text_Good</th>        <td>    1.0602</td> <td>    0.005</td> <td>  206.414</td> <td> 0.000</td> <td>    1.050</td> <td>    1.070</td>\n",
              "</tr>\n",
              "<tr>\n",
              "  <th>Rating text_Not rated</th>   <td>   -2.6076</td> <td>    0.006</td> <td> -443.480</td> <td> 0.000</td> <td>   -2.619</td> <td>   -2.596</td>\n",
              "</tr>\n",
              "<tr>\n",
              "  <th>Rating text_Poor</th>        <td>   -0.3105</td> <td>    0.014</td> <td>  -22.892</td> <td> 0.000</td> <td>   -0.337</td> <td>   -0.284</td>\n",
              "</tr>\n",
              "<tr>\n",
              "  <th>Rating text_Very Good</th>   <td>    1.5173</td> <td>    0.007</td> <td>  224.617</td> <td> 0.000</td> <td>    1.504</td> <td>    1.531</td>\n",
              "</tr>\n",
              "</table>\n",
              "<table class=\"simpletable\">\n",
              "<tr>\n",
              "  <th>Omnibus:</th>       <td>237.273</td> <th>  Durbin-Watson:     </th> <td>   2.014</td>\n",
              "</tr>\n",
              "<tr>\n",
              "  <th>Prob(Omnibus):</th> <td> 0.000</td>  <th>  Jarque-Bera (JB):  </th> <td> 303.936</td>\n",
              "</tr>\n",
              "<tr>\n",
              "  <th>Skew:</th>          <td>-0.395</td>  <th>  Prob(JB):          </th> <td>1.00e-66</td>\n",
              "</tr>\n",
              "<tr>\n",
              "  <th>Kurtosis:</th>      <td> 3.683</td>  <th>  Cond. No.          </th> <td>2.85e+18</td>\n",
              "</tr>\n",
              "</table><br/><br/>Warnings:<br/>[1] Standard Errors assume that the covariance matrix of the errors is correctly specified.<br/>[2] The smallest eigenvalue is 1.65e-28. This might indicate that there are<br/>strong multicollinearity problems or that the design matrix is singular."
            ],
            "text/plain": [
              "<class 'statsmodels.iolib.summary.Summary'>\n",
              "\"\"\"\n",
              "                            OLS Regression Results                            \n",
              "==============================================================================\n",
              "Dep. Variable:       Aggregate rating   R-squared:                       0.986\n",
              "Model:                            OLS   Adj. R-squared:                  0.986\n",
              "Method:                 Least Squares   F-statistic:                 3.999e+04\n",
              "Date:                Thu, 13 May 2021   Prob (F-statistic):               0.00\n",
              "Time:                        16:28:22   Log-Likelihood:                 2047.1\n",
              "No. Observations:                6685   AIC:                            -4068.\n",
              "Df Residuals:                    6672   BIC:                            -3980.\n",
              "Df Model:                          12                                         \n",
              "Covariance Type:            nonrobust                                         \n",
              "===========================================================================================\n",
              "                              coef    std err          t      P>|t|      [0.025      0.975]\n",
              "-------------------------------------------------------------------------------------------\n",
              "Votes                    3.499e-05   5.97e-06      5.858      0.000    2.33e-05    4.67e-05\n",
              "new cost                    0.0004      0.000      2.323      0.020    6.37e-05       0.001\n",
              "Has Table booking_No        1.0561      0.004    270.583      0.000       1.048       1.064\n",
              "Has Table booking_Yes       1.0299      0.005    194.781      0.000       1.020       1.040\n",
              "Has Online delivery_No      1.0510      0.003    327.003      0.000       1.045       1.057\n",
              "Has Online delivery_Yes     1.0350      0.004    273.666      0.000       1.028       1.042\n",
              "Price range_1               0.4974      0.005     94.833      0.000       0.487       0.508\n",
              "Price range_2               0.5050      0.005    109.157      0.000       0.496       0.514\n",
              "Price range_3               0.5375      0.005     99.450      0.000       0.527       0.548\n",
              "Price range_4               0.5462      0.009     58.866      0.000       0.528       0.564\n",
              "Rating text_Average         0.4380      0.005     92.610      0.000       0.429       0.447\n",
              "Rating text_Excellent       1.9886      0.012    168.232      0.000       1.965       2.012\n",
              "Rating text_Good            1.0602      0.005    206.414      0.000       1.050       1.070\n",
              "Rating text_Not rated      -2.6076      0.006   -443.480      0.000      -2.619      -2.596\n",
              "Rating text_Poor           -0.3105      0.014    -22.892      0.000      -0.337      -0.284\n",
              "Rating text_Very Good       1.5173      0.007    224.617      0.000       1.504       1.531\n",
              "==============================================================================\n",
              "Omnibus:                      237.273   Durbin-Watson:                   2.014\n",
              "Prob(Omnibus):                  0.000   Jarque-Bera (JB):              303.936\n",
              "Skew:                          -0.395   Prob(JB):                     1.00e-66\n",
              "Kurtosis:                       3.683   Cond. No.                     2.85e+18\n",
              "==============================================================================\n",
              "\n",
              "Warnings:\n",
              "[1] Standard Errors assume that the covariance matrix of the errors is correctly specified.\n",
              "[2] The smallest eigenvalue is 1.65e-28. This might indicate that there are\n",
              "strong multicollinearity problems or that the design matrix is singular.\n",
              "\"\"\""
            ]
          },
          "metadata": {
            "tags": []
          },
          "execution_count": 70
        }
      ]
    },
    {
      "cell_type": "markdown",
      "metadata": {
        "id": "KzlL8VpHucBg"
      },
      "source": [
        "#Decision Tree Regressor"
      ]
    },
    {
      "cell_type": "code",
      "metadata": {
        "colab": {
          "base_uri": "https://localhost:8080/"
        },
        "id": "CJacFGe8h_S3",
        "outputId": "2e5b9d50-7512-426c-af9e-cbff9d4c2ea8"
      },
      "source": [
        "from sklearn.tree import DecisionTreeRegressor\n",
        "dtr = DecisionTreeRegressor(random_state = 42)\n",
        "dtr.fit(X_train,y_train)\n",
        "dtr_predictions = dtr.predict(X_test) \n",
        "results = model_selection.cross_val_score(dtr, X, y, scoring='r2')\n",
        "print(results)\n",
        "# R^2 Score\n",
        "print(\"R_square score: \", r2_score(y_test,dtr_predictions))"
      ],
      "execution_count": 72,
      "outputs": [
        {
          "output_type": "stream",
          "text": [
            "[0.97047075 0.97166805 0.97651647 0.9758848  0.9792962 ]\n",
            "R_square score:  0.9766063232595784\n"
          ],
          "name": "stdout"
        }
      ]
    }
  ]
}